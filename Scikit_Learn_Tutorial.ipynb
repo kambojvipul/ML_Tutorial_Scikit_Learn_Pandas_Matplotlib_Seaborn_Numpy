{
 "cells": [
  {
   "cell_type": "raw",
   "metadata": {},
   "source": [
    "'SK Learn Machine Learning Models'\n",
    "\n",
    "0) 'Loading Dataset'\n",
    "\n",
    "from sklearn import datasets\n",
    "from sklearn.model_selection import train_test_split\n",
    "iris = datasets.laod_iris()\n",
    "iris.DESCR\n",
    "x = iris.data\n",
    "y = iris.target\n",
    "columns = iris.feature_names\n",
    "category = iris.target_names\n",
    "x_train, x_test, y_train, y_test = train_test_split(x,y,test_size=0.2)\n",
    "\n",
    "1) 'KNN Nearesrt Neighbour Classification'\n",
    "\n",
    "from sklearn import neighbors, metrics\n",
    "from sklearn.metrcis import accuracy_score\n",
    "from sklearn.preprocessing import LabelEncoder\n",
    "Le = LabelEncoder()\n",
    "    x[:,i]=Le.fir_transform(x[;,i])\n",
    "model = neighbors.KNeighborsClassifier(n_neighbors=25, weights='uniform')#distance\n",
    "model.fit(x_train, y_train)\n",
    "prediction=model.predict(x_test)\n",
    "metrics.accuracy_score(y_test, prediction)\n",
    "p1 = knn.predict(x)[i]\n",
    "\n",
    "2) 'SVM - Support Vector Machine'\n",
    "\n",
    "from sklearn import svm\n",
    "model = svm.SVC()\n",
    "model.fit(x_train, y_train)\n",
    "prediction=model.predict(x_test)\n",
    "metrics.accuracy_score(y_test, prediction)\n",
    "p1 = knn.predict(x)[i]\n",
    "\n",
    "3) 'Linear Regression Model'\n",
    "from sklearn import linear_model\n",
    "\n",
    "l_reg = linear_model.LinearRegression()\n",
    "model = l_reg.fit(x_train, y_train)\n",
    "prediction = model.predict(x_test)\n",
    "print('R^2 : ', model.score(x, y))\n",
    "print ('weights coefficient : ', model.coef_)\n",
    "print ('Intercept weight : ', model.intercept_)\n",
    "\n",
    "4) 'KMeans Clustering'  \n",
    "from sklearn.cluster import KMeans\n",
    "from sklearn.metrics import accuracy_score\n",
    "from sklearn.preprocessing import scale\n",
    "x = sclae(x)\n",
    "x_train, x_test, y_train, y_test = train_test_split(x, y, test_size=6)# taking only 6 samples\n",
    "model = KMeans(n_clusters=2, random_state=0)\n",
    "model.fit(x_train)\n",
    "predictions = model.predict(x_test)\n",
    "labels = model.labels_\n",
    "print(\"Labels\", labels)\n",
    "print(\"Accuracy\", accuracy_score(y_test, predictions))\n",
    "pd.crosstab(y_train, labels)\n",
    "\n",
    "'5)   Scale, StandardScaler, MinMaxScaler'     \n",
    "\n",
    "test_data = pd.DataFrame({'vip':[1,2,3,4,5,6,7,8,9,10], 'kam':[1,100,500,700,1000,2000,4000,6000,8000,10000]})\n",
    "from sklearn.preprocessing import StandardScaler, scale, MinMaxScaler\n",
    "\n",
    "print(scale(test_data))\n",
    "\n",
    "sc = StandardScaler()\n",
    "sc.fit(test_data) # or use sc.fit_transform(test_data)\n",
    "print(sc.transform(test_data))\n",
    "test = sc.transform(test_data)\n",
    "print('Inverse : ', sc.inverse_transform(test))\n",
    "\n",
    "mn = MinMaxScaler()\n",
    "print('MinMaxScalar')\n",
    "print(mn.fit(test_data)) # or use mn.fit_transform(test_data)\n",
    "print(mn.transform(test_data)) #mn.inverse_transform(test)\n",
    "\n",
    "6) 'Random Forest Classifier'\n",
    "\n",
    "from sklearn.ensemble import RandomForestClassifier\n",
    "x_train, x_test, y_train, y_test = train_test_split(x,y, test_size=0.2)\n",
    "model = RandomForestClassifier(n_estimators=3, min_samples_split=3, min_samples_leaf=1)\n",
    "model.fit(x_train, y_train)\n",
    "prediction = model.predict(x_test)\n",
    "print('Accuracy : ', accuracy_score(y_test, prediction))\n",
    "\n",
    "7) 'Hyperparameter Tuning on Random Forest Classifier'\n",
    "\n",
    "from sklearn.model_selection import GridSearchCV\n",
    "param_grid = {'n_estimators':[2,5,10,20], 'min_samples_split':[2,3,4,5], 'min_samples_leaf':[1,2,3,4]}\n",
    "model_gs = GridSearchCV(estimator=model, param_grid=param_grid)\n",
    "model_gs.fit(x_train, y_train)\n",
    "predition = model_gs.predict(x_test)\n",
    "print('Accuracy : ', accuracy_score(y_test, prediction))\n",
    "print(model_gs.best_params_)\n",
    "\n",
    "8) 'Random Forest Regressor'\n",
    "from sklearn.ensemble import RandomForestRegressor\n",
    "from sklearn.preprocessing import StandardScaler, scale\n",
    "from sklearn.metrics import accuracy_score, r2_score, mean_squared_error, mean_absolute_error\n",
    "sc = StandardScaler()\n",
    "x = sc.fit_transform(x)\n",
    "model = RandomForestRegressor(n_estimators=1000,random_state=0, min_samples_split=2)\n",
    "model.fit(x_train, y_train)\n",
    "prediction = model.predict(x_test)\n",
    "print('R^2_Accuracy_Score : ', metrics.r2_score(y_test, prediction))\n",
    "print('Mean_Absolute_Error : ',mean_absolute_error(y_test,prediction))\n",
    "print('Mean_Squared_Error : ',mean_squared_error(y_test,prediction))\n",
    "\n",
    "\n",
    "9) 'Hyperparameter Tuning on KNN K Neighbors Classifier'\n",
    "\n",
    "from sklearn.model_selection import GridSearchCV\n",
    "from sklearn import neighbors\n",
    "model_knn = neighbors.KNeighborsClassifier(n_neighbors=15, weights='uniform')\n",
    "model_knn.fit(x_train, y_train)\n",
    "\n",
    "param_grid = {'n_neighbors':[5,10,15,20,25,30,35,40,45,50], 'weights':['uniform','distance']}\n",
    "model_gs=GridSearchCV(estimator=model_knn,param_grid = param_grid)\n",
    "model_gs.fit(x_train, y_train)\n",
    "prediction = model_gs.predict(x_test)\n",
    "print('Best_Params_:',model_gs.best_params_)\n",
    "print('Best_Score_: ',model_gs.best_score_)\n",
    "print('Metrics.Accuracy_Score : ', accuracy_score(y_test,prediction))\n",
    "print(model_gs.cv_results_)\n",
    "\n",
    "\n"
   ]
  },
  {
   "cell_type": "code",
   "execution_count": 735,
   "metadata": {},
   "outputs": [
    {
     "name": "stdout",
     "output_type": "stream",
     "text": [
      "0) - Loading Dataset\n",
      "(150, 4)\n",
      "(150,)\n",
      "['sepal length (cm)', 'sepal width (cm)', 'petal length (cm)', 'petal width (cm)']\n",
      "['setosa' 'versicolor' 'virginica']\n",
      "[0 0 0 0 0 0 0 0 0 0 0 0 0 0 0 0 0 0 0 0 0 0 0 0 0 0 0 0 0 0 0 0 0 0 0 0 0\n",
      " 0 0 0 0 0 0 0 0 0 0 0 0 0 1 1 1 1 1 1 1 1 1 1 1 1 1 1 1 1 1 1 1 1 1 1 1 1\n",
      " 1 1 1 1 1 1 1 1 1 1 1 1 1 1 1 1 1 1 1 1 1 1 1 1 1 1 2 2 2 2 2 2 2 2 2 2 2\n",
      " 2 2 2 2 2 2 2 2 2 2 2 2 2 2 2 2 2 2 2 2 2 2 2 2 2 2 2 2 2 2 2 2 2 2 2 2 2\n",
      " 2 2]\n",
      "<class 'numpy.ndarray'>\n",
      ".. _iris_dataset:\n",
      "\n",
      "Iris plants dataset\n",
      "--------------------\n",
      "\n",
      "**Data Set Characteristics:**\n",
      "\n",
      "    :Number of Instances: 150 (50 in each of three classes)\n",
      "    :Number of Attributes: 4 numeric, predictive attributes and the class\n",
      "    :Attribute Information:\n",
      "        - sepal length in cm\n",
      "        - sepal width in cm\n",
      "        - petal length in cm\n",
      "        - petal width in cm\n",
      "        - class:\n",
      "                - Iris-Setosa\n",
      "                - Iris-Versicolour\n",
      "                - Iris-Virginica\n",
      "                \n",
      "    :Summary Statistics:\n",
      "\n",
      "    ============== ==== ==== ======= ===== ====================\n",
      "                    Min  Max   Mean    SD   Class Correlation\n",
      "    ============== ==== ==== ======= ===== ====================\n",
      "    sepal length:   4.3  7.9   5.84   0.83    0.7826\n",
      "    sepal width:    2.0  4.4   3.05   0.43   -0.4194\n",
      "    petal length:   1.0  6.9   3.76   1.76    0.9490  (high!)\n",
      "    petal width:    0.1  2.5   1.20   0.76    0.9565  (high!)\n",
      "    ============== ==== ==== ======= ===== ====================\n",
      "\n",
      "    :Missing Attribute Values: None\n",
      "    :Class Distribution: 33.3% for each of 3 classes.\n",
      "    :Creator: R.A. Fisher\n",
      "    :Donor: Michael Marshall (MARSHALL%PLU@io.arc.nasa.gov)\n",
      "    :Date: July, 1988\n",
      "\n",
      "The famous Iris database, first used by Sir R.A. Fisher. The dataset is taken\n",
      "from Fisher's paper. Note that it's the same as in R, but not as in the UCI\n",
      "Machine Learning Repository, which has two wrong data points.\n",
      "\n",
      "This is perhaps the best known database to be found in the\n",
      "pattern recognition literature.  Fisher's paper is a classic in the field and\n",
      "is referenced frequently to this day.  (See Duda & Hart, for example.)  The\n",
      "data set contains 3 classes of 50 instances each, where each class refers to a\n",
      "type of iris plant.  One class is linearly separable from the other 2; the\n",
      "latter are NOT linearly separable from each other.\n",
      "\n",
      ".. topic:: References\n",
      "\n",
      "   - Fisher, R.A. \"The use of multiple measurements in taxonomic problems\"\n",
      "     Annual Eugenics, 7, Part II, 179-188 (1936); also in \"Contributions to\n",
      "     Mathematical Statistics\" (John Wiley, NY, 1950).\n",
      "   - Duda, R.O., & Hart, P.E. (1973) Pattern Classification and Scene Analysis.\n",
      "     (Q327.D83) John Wiley & Sons.  ISBN 0-471-22361-1.  See page 218.\n",
      "   - Dasarathy, B.V. (1980) \"Nosing Around the Neighborhood: A New System\n",
      "     Structure and Classification Rule for Recognition in Partially Exposed\n",
      "     Environments\".  IEEE Transactions on Pattern Analysis and Machine\n",
      "     Intelligence, Vol. PAMI-2, No. 1, 67-71.\n",
      "   - Gates, G.W. (1972) \"The Reduced Nearest Neighbor Rule\".  IEEE Transactions\n",
      "     on Information Theory, May 1972, 431-433.\n",
      "   - See also: 1988 MLC Proceedings, 54-64.  Cheeseman et al\"s AUTOCLASS II\n",
      "     conceptual clustering system finds 3 classes in the data.\n",
      "   - Many, many more ...\n"
     ]
    }
   ],
   "source": [
    "print('0) - Loading Dataset')\n",
    "from sklearn import datasets\n",
    "from sklearn.model_selection import train_test_split\n",
    "dir(datasets)\n",
    "iris = datasets.load_iris()\n",
    "print(iris.data.shape)\n",
    "print(iris.target.shape)\n",
    "print(iris.feature_names)\n",
    "print(iris.target_names)\n",
    "print(iris.target)\n",
    "print(type(iris.data))\n",
    "print(iris.DESCR)"
   ]
  },
  {
   "cell_type": "code",
   "execution_count": 736,
   "metadata": {},
   "outputs": [
    {
     "name": "stdout",
     "output_type": "stream",
     "text": [
      "Convert SKlearn Dataset to Pandas Dataset\n",
      "['setosa' 'versicolor' 'virginica']\n",
      "['sepal length (cm)', 'sepal width (cm)', 'petal length (cm)', 'petal width (cm)', 'category']\n",
      "(150, 4) (150,) (150, 5)\n",
      "   sepal length (cm)  sepal width (cm)  petal length (cm)  petal width (cm)  \\\n",
      "0                5.1               3.5                1.4               0.2   \n",
      "1                4.9               3.0                1.4               0.2   \n",
      "2                4.7               3.2                1.3               0.2   \n",
      "3                4.6               3.1                1.5               0.2   \n",
      "4                5.0               3.6                1.4               0.2   \n",
      "\n",
      "   category  \n",
      "0         0  \n",
      "1         0  \n",
      "2         0  \n",
      "3         0  \n",
      "4         0  \n",
      "   sepal length (cm)  sepal width (cm)  petal length (cm)  petal width (cm)  \\\n",
      "0                5.1               3.5                1.4               0.2   \n",
      "1                4.9               3.0                1.4               0.2   \n",
      "2                4.7               3.2                1.3               0.2   \n",
      "3                4.6               3.1                1.5               0.2   \n",
      "4                5.0               3.6                1.4               0.2   \n",
      "\n",
      "  category  \n",
      "0   setosa  \n",
      "1   setosa  \n",
      "2   setosa  \n",
      "3   setosa  \n",
      "4   setosa  \n"
     ]
    },
    {
     "data": {
      "text/html": [
       "<div>\n",
       "<style scoped>\n",
       "    .dataframe tbody tr th:only-of-type {\n",
       "        vertical-align: middle;\n",
       "    }\n",
       "\n",
       "    .dataframe tbody tr th {\n",
       "        vertical-align: top;\n",
       "    }\n",
       "\n",
       "    .dataframe thead th {\n",
       "        text-align: right;\n",
       "    }\n",
       "</style>\n",
       "<table border=\"1\" class=\"dataframe\">\n",
       "  <thead>\n",
       "    <tr style=\"text-align: right;\">\n",
       "      <th></th>\n",
       "      <th>sepal length (cm)</th>\n",
       "      <th>sepal width (cm)</th>\n",
       "      <th>petal length (cm)</th>\n",
       "      <th>petal width (cm)</th>\n",
       "    </tr>\n",
       "  </thead>\n",
       "  <tbody>\n",
       "    <tr>\n",
       "      <td>count</td>\n",
       "      <td>150.000000</td>\n",
       "      <td>150.000000</td>\n",
       "      <td>150.000000</td>\n",
       "      <td>150.000000</td>\n",
       "    </tr>\n",
       "    <tr>\n",
       "      <td>mean</td>\n",
       "      <td>5.843333</td>\n",
       "      <td>3.057333</td>\n",
       "      <td>3.758000</td>\n",
       "      <td>1.199333</td>\n",
       "    </tr>\n",
       "    <tr>\n",
       "      <td>std</td>\n",
       "      <td>0.828066</td>\n",
       "      <td>0.435866</td>\n",
       "      <td>1.765298</td>\n",
       "      <td>0.762238</td>\n",
       "    </tr>\n",
       "    <tr>\n",
       "      <td>min</td>\n",
       "      <td>4.300000</td>\n",
       "      <td>2.000000</td>\n",
       "      <td>1.000000</td>\n",
       "      <td>0.100000</td>\n",
       "    </tr>\n",
       "    <tr>\n",
       "      <td>25%</td>\n",
       "      <td>5.100000</td>\n",
       "      <td>2.800000</td>\n",
       "      <td>1.600000</td>\n",
       "      <td>0.300000</td>\n",
       "    </tr>\n",
       "    <tr>\n",
       "      <td>50%</td>\n",
       "      <td>5.800000</td>\n",
       "      <td>3.000000</td>\n",
       "      <td>4.350000</td>\n",
       "      <td>1.300000</td>\n",
       "    </tr>\n",
       "    <tr>\n",
       "      <td>75%</td>\n",
       "      <td>6.400000</td>\n",
       "      <td>3.300000</td>\n",
       "      <td>5.100000</td>\n",
       "      <td>1.800000</td>\n",
       "    </tr>\n",
       "    <tr>\n",
       "      <td>max</td>\n",
       "      <td>7.900000</td>\n",
       "      <td>4.400000</td>\n",
       "      <td>6.900000</td>\n",
       "      <td>2.500000</td>\n",
       "    </tr>\n",
       "  </tbody>\n",
       "</table>\n",
       "</div>"
      ],
      "text/plain": [
       "       sepal length (cm)  sepal width (cm)  petal length (cm)  \\\n",
       "count         150.000000        150.000000         150.000000   \n",
       "mean            5.843333          3.057333           3.758000   \n",
       "std             0.828066          0.435866           1.765298   \n",
       "min             4.300000          2.000000           1.000000   \n",
       "25%             5.100000          2.800000           1.600000   \n",
       "50%             5.800000          3.000000           4.350000   \n",
       "75%             6.400000          3.300000           5.100000   \n",
       "max             7.900000          4.400000           6.900000   \n",
       "\n",
       "       petal width (cm)  \n",
       "count        150.000000  \n",
       "mean           1.199333  \n",
       "std            0.762238  \n",
       "min            0.100000  \n",
       "25%            0.300000  \n",
       "50%            1.300000  \n",
       "75%            1.800000  \n",
       "max            2.500000  "
      ]
     },
     "execution_count": 736,
     "metadata": {},
     "output_type": "execute_result"
    }
   ],
   "source": [
    "print (\"Convert SKlearn Dataset to Pandas Dataset\")\n",
    "import numpy as np\n",
    "iris = datasets.load_iris()\n",
    "columns = iris.feature_names\n",
    "print(iris.target_names)\n",
    "columns.append('category')\n",
    "print(columns)\n",
    "iris_pd = pd.DataFrame(data = iris.data)\n",
    "iris_tr = pd.DataFrame(data = iris.target)\n",
    "iris_pd = pd.concat([iris_pd,iris_tr], axis=1)\n",
    "iris_pd.columns = columns\n",
    "print(iris.data.shape, iris.target.shape, iris_pd.shape )\n",
    "print(iris_pd.head(5))\n",
    "\n",
    "Label_map = {0:'setosa', 1:'versicolor', 2:'virginica'}\n",
    "iris_pd['category'] = iris_pd['category'].map(Label_map)\n",
    "\n",
    "print(iris_pd.head(5))\n",
    "\n",
    "iris_pd.describe()\n"
   ]
  },
  {
   "cell_type": "code",
   "execution_count": 737,
   "metadata": {},
   "outputs": [
    {
     "name": "stdout",
     "output_type": "stream",
     "text": [
      "None\n",
      "['sepal length (cm)', 'sepal width (cm)', 'petal length (cm)', 'petal width (cm)', 'category', 'setosa', 'versicolor', 'virginica']\n"
     ]
    }
   ],
   "source": [
    "list1 = iris.feature_names\n",
    "list0 = list1\n",
    "list2 = iris.target_names\n",
    "print(list0.extend(list2))\n",
    "print(list0)"
   ]
  },
  {
   "cell_type": "code",
   "execution_count": 738,
   "metadata": {},
   "outputs": [
    {
     "name": "stdout",
     "output_type": "stream",
     "text": [
      "(150, 4)\n",
      "(120, 4)\n",
      "(120,)\n",
      "(30, 4)\n",
      "(30,)\n",
      "<class 'numpy.ndarray'> <class 'numpy.ndarray'>\n"
     ]
    }
   ],
   "source": [
    "x = iris.data\n",
    "y = iris.target\n",
    "x_train, x_test, y_train, y_test = train_test_split(x,y,test_size=0.2)\n",
    "print(iris.data.shape)\n",
    "print(x_train.shape)\n",
    "print(y_train.shape)\n",
    "print(x_test.shape)\n",
    "print(y_test.shape)\n",
    "print(type(x_train),type(y_test))"
   ]
  },
  {
   "cell_type": "code",
   "execution_count": 739,
   "metadata": {},
   "outputs": [
    {
     "name": "stdout",
     "output_type": "stream",
     "text": [
      "(1080, 77)\n",
      "(1080,)\n",
      "['DYRK1A_N', 'ITSN1_N', 'BDNF_N', 'NR1_N', 'NR2A_N', 'pAKT_N', 'pBRAF_N', 'pCAMKII_N', 'pCREB_N', 'pELK_N', 'pERK_N', 'pJNK_N', 'PKCA_N', 'pMEK_N', 'pNR1_N', 'pNR2A_N', 'pNR2B_N', 'pPKCAB_N', 'pRSK_N', 'AKT_N', 'BRAF_N', 'CAMKII_N', 'CREB_N', 'ELK_N', 'ERK_N', 'GSK3B_N', 'JNK_N', 'MEK_N', 'TRKA_N', 'RSK_N', 'APP_N', 'Bcatenin_N', 'SOD1_N', 'MTOR_N', 'P38_N', 'pMTOR_N', 'DSCR1_N', 'AMPKA_N', 'NR2B_N', 'pNUMB_N', 'RAPTOR_N', 'TIAM1_N', 'pP70S6_N', 'NUMB_N', 'P70S6_N', 'pGSK3B_N', 'pPKCG_N', 'CDK5_N', 'S6_N', 'ADARB1_N', 'AcetylH3K9_N', 'RRP1_N', 'BAX_N', 'ARC_N', 'ERBB4_N', 'nNOS_N', 'Tau_N', 'GFAP_N', 'GluR3_N', 'GluR4_N', 'IL1B_N', 'P3525_N', 'pCASP9_N', 'PSD95_N', 'SNCA_N', 'Ubiquitin_N', 'pGSK3B_Tyr216_N', 'SHH_N', 'BAD_N', 'BCL2_N', 'pS6_N', 'pCFOS_N', 'SYP_N', 'H3AcK18_N', 'EGR1_N', 'H3MeK4_N', 'CaNA_N']\n",
      "Target :  ['c-CS-m' 'c-CS-m' 'c-CS-m' ... 't-SC-s' 't-SC-s' 't-SC-s']\n",
      "TArget_Names :  ['c-CS-m' 'c-CS-s' 'c-SC-m' 'c-SC-s' 't-CS-m' 't-CS-s' 't-SC-m' 't-SC-s']\n",
      "[0.50364388 0.74719322 0.4301753  2.81632854 5.99015166 0.21883002\n",
      " 0.17756549 2.37374434 0.23222375 1.75093559 0.68790624 0.30638172\n",
      " 0.40269844 0.29692732 1.02206027 0.60567264 1.87768367 2.30874532\n",
      " 0.44159937 0.85936577 0.41628915 0.36960804 0.17894426 1.86635809\n",
      " 3.68524719 1.53722671 0.2645263  0.31967697 0.81386646 0.16584597\n",
      " 0.45390979 3.03762064 0.36950955 0.45853851 0.33533583 0.82519204\n",
      " 0.5769155  0.44809927 0.58627142 0.39472129 0.33957061 0.4828639\n",
      " 0.29416979 0.18215047 0.84272515 0.19260839 1.44309067 0.29469997\n",
      " 0.35460453 1.33906996 0.17011879 0.15910245 0.18885166 0.10630521\n",
      " 0.14498934 0.17666768 0.12519037 0.11529089 0.22804346 0.14275561\n",
      " 0.43095746 0.24753782 1.60330998 2.01487461 0.10823434 1.04497919\n",
      " 0.8315565  0.18885166 0.12265205        nan 0.10630521 0.10833587\n",
      " 0.4270992  0.11478323 0.13179003 0.1281856  1.67565235]\n"
     ]
    }
   ],
   "source": [
    "from sklearn.datasets import fetch_openml\n",
    "mice = fetch_openml(name='miceprotein', version=4)\n",
    "print(mice.data.shape)\n",
    "print(mice.target.shape)\n",
    "print(mice.feature_names)\n",
    "#print(mice.target_names)\n",
    "print('Target : ',mice.target)\n",
    "import numpy as np\n",
    "print('TArget_Names : ',np.unique(mice.target))\n",
    "#print(mice.DESCR)\n",
    "print(mice.data[0])"
   ]
  },
  {
   "cell_type": "code",
   "execution_count": 740,
   "metadata": {},
   "outputs": [
    {
     "name": "stdout",
     "output_type": "stream",
     "text": [
      "1) KNN Nearesrt Neighbour Classification\n",
      "Index(['vhigh', 'vhigh.1', '2', '2.1', 'small', 'low', 'unacc'], dtype='object')\n"
     ]
    }
   ],
   "source": [
    "print(          '1) KNN Nearesrt Neighbour Classification'         )\n",
    "\n",
    "import pandas as pd\n",
    "from sklearn import neighbors, metrics\n",
    "from sklearn.model_selection import train_test_split\n",
    "from sklearn.preprocessing import LabelEncoder\n",
    "data = pd.read_csv('/Users/vipulkamboj/Downloads/car.data')\n",
    "print(data.columns)\n",
    "\n",
    "\n"
   ]
  },
  {
   "cell_type": "code",
   "execution_count": 741,
   "metadata": {},
   "outputs": [
    {
     "name": "stdout",
     "output_type": "stream",
     "text": [
      "   buying  maint  doors persons lug_boot safety  class\n",
      "0   vhigh  vhigh      2       2    small    med  unacc\n",
      "1   vhigh  vhigh      2       2    small   high  unacc\n",
      "2   vhigh  vhigh      2       2      med    low  unacc\n",
      "3   vhigh  vhigh      2       2      med    med  unacc\n",
      "4   vhigh  vhigh      2       2      med   high  unacc\n",
      "..    ...    ...    ...     ...      ...    ...    ...\n",
      "95  vhigh  vhigh  5more       4      big    low  unacc\n",
      "96  vhigh  vhigh  5more       4      big    med  unacc\n",
      "97  vhigh  vhigh  5more       4      big   high  unacc\n",
      "98  vhigh  vhigh  5more    more    small    low  unacc\n",
      "99  vhigh  vhigh  5more    more    small    med  unacc\n",
      "\n",
      "[100 rows x 7 columns]\n"
     ]
    }
   ],
   "source": [
    "\n",
    "data.columns = ['buying', 'maint', 'doors', 'persons', 'lug_boot', 'safety', 'class']\n",
    "print(data.head(100))"
   ]
  },
  {
   "cell_type": "code",
   "execution_count": 742,
   "metadata": {},
   "outputs": [
    {
     "name": "stdout",
     "output_type": "stream",
     "text": [
      "(1727, 3) (1727, 1)\n"
     ]
    }
   ],
   "source": [
    "x = data[['buying','maint','safety']]\n",
    "y = data[['class']]\n",
    "print(x.shape, y.shape)\n",
    "# convert dataframe to numpy\n",
    "x = x.values\n",
    "#x = x.to_numpy()"
   ]
  },
  {
   "cell_type": "code",
   "execution_count": 743,
   "metadata": {},
   "outputs": [
    {
     "name": "stdout",
     "output_type": "stream",
     "text": [
      "(1727, 3)\n"
     ]
    },
    {
     "data": {
      "text/plain": [
       "array([[3, 3, 2],\n",
       "       [3, 3, 0],\n",
       "       [3, 3, 1],\n",
       "       ...,\n",
       "       [1, 1, 1],\n",
       "       [1, 1, 2],\n",
       "       [1, 1, 0]], dtype=object)"
      ]
     },
     "execution_count": 743,
     "metadata": {},
     "output_type": "execute_result"
    }
   ],
   "source": [
    "Le = LabelEncoder()\n",
    "for i in range(len(x[0])):\n",
    "    x[:,i] = Le.fit_transform(x[:,i])\n",
    "print(x.shape)\n",
    "x"
   ]
  },
  {
   "cell_type": "code",
   "execution_count": 744,
   "metadata": {},
   "outputs": [
    {
     "data": {
      "text/plain": [
       "array(['unacc', 'acc', 'vgood', 'good'], dtype=object)"
      ]
     },
     "execution_count": 744,
     "metadata": {},
     "output_type": "execute_result"
    }
   ],
   "source": [
    "pd.unique(y['class'])\n"
   ]
  },
  {
   "cell_type": "code",
   "execution_count": 745,
   "metadata": {},
   "outputs": [
    {
     "name": "stderr",
     "output_type": "stream",
     "text": [
      "/opt/anaconda3/lib/python3.7/site-packages/ipykernel_launcher.py:3: SettingWithCopyWarning: \n",
      "A value is trying to be set on a copy of a slice from a DataFrame.\n",
      "Try using .loc[row_indexer,col_indexer] = value instead\n",
      "\n",
      "See the caveats in the documentation: http://pandas.pydata.org/pandas-docs/stable/user_guide/indexing.html#returning-a-view-versus-a-copy\n",
      "  This is separate from the ipykernel package so we can avoid doing imports until\n"
     ]
    }
   ],
   "source": [
    "#print(   \"Maping of Y\"  )\n",
    "Label_map = {'unacc':0, 'acc':1, 'vgood':2, 'good': 3 }\n",
    "y['class'] = y['class'].map(Label_map)"
   ]
  },
  {
   "cell_type": "code",
   "execution_count": 746,
   "metadata": {},
   "outputs": [
    {
     "name": "stdout",
     "output_type": "stream",
     "text": [
      "(1727, 1)\n",
      "<class 'pandas.core.frame.DataFrame'>\n",
      "(1727,)\n",
      "(1727, 1)\n"
     ]
    }
   ],
   "source": [
    "print(y.shape)\n",
    "print(type(y))\n",
    "print(y['class'].to_numpy().shape)\n",
    "print(y.to_numpy().shape)\n",
    "y = y['class'].to_numpy()\n"
   ]
  },
  {
   "cell_type": "code",
   "execution_count": 747,
   "metadata": {},
   "outputs": [
    {
     "name": "stdout",
     "output_type": "stream",
     "text": [
      "[0 0 0 ... 0 3 2]\n",
      "(1381, 3)\n",
      "(1381,)\n",
      "(346, 3)\n",
      "(346,)\n"
     ]
    }
   ],
   "source": [
    "print(y)\n",
    "x_train, x_test, y_train, y_test = train_test_split(x,y, test_size=0.2)\n",
    "print(x_train.shape)\n",
    "print(y_train.shape)\n",
    "print(x_test.shape)\n",
    "print(y_test.shape)"
   ]
  },
  {
   "cell_type": "code",
   "execution_count": 748,
   "metadata": {},
   "outputs": [
    {
     "data": {
      "text/plain": [
       "KNeighborsClassifier(algorithm='auto', leaf_size=30, metric='minkowski',\n",
       "                     metric_params=None, n_jobs=None, n_neighbors=25, p=2,\n",
       "                     weights='uniform')"
      ]
     },
     "execution_count": 748,
     "metadata": {},
     "output_type": "execute_result"
    }
   ],
   "source": [
    "knn = neighbors.KNeighborsClassifier(n_neighbors=25, weights='uniform')\n",
    "knn.fit(x_train, y_train)"
   ]
  },
  {
   "cell_type": "code",
   "execution_count": 749,
   "metadata": {},
   "outputs": [
    {
     "name": "stdout",
     "output_type": "stream",
     "text": [
      "[0 2 0 1 0 3 0 1 0 0 0 0 0 0 0 0 1 0 0 1 1 0 2 0 0 0 0 1 0 0 0 0 0 0 0 0 1\n",
      " 0 0 1 1 1 3 0 0 3 1 2 0 0 0 0 1 1 1 1 0 0 1 0 3 0 0 0 1 1 0 0 0 0 2 0 0 1\n",
      " 0 0 2 1 0 0 0 1 1 0 1 0 2 0 0 0 1 0 0 0 3 1 0 0 1 0 0 0 0 0 0 0 1 0 1 1 1\n",
      " 0 0 0 0 0 0 0 0 0 0 0 0 0 1 0 0 0 0 0 1 0 0 1 1 1 0 0 0 1 0 0 0 0 0 0 0 3\n",
      " 0 1 1 1 1 1 0 0 1 1 0 1 1 0 2 0 0 1 0 0 0 0 0 0 0 1 0 1 3 0 0 1 0 0 1 1 0\n",
      " 0 0 0 0 1 0 0 0 2 0 0 1 0 1 0 0 2 0 0 0 0 0 2 1 0 0 0 0 0 1 1 0 0 1 3 1 2\n",
      " 0 0 0 0 0 0 0 0 0 1 0 0 0 1 3 1 0 0 2 1 0 0 0 1 0 2 0 0 0 0 0 0 2 0 1 1 2\n",
      " 0 0 0 0 0 3 0 0 0 1 0 0 0 1 3 0 0 0 0 1 2 2 0 0 3 1 0 0 0 0 2 0 1 1 0 1 0\n",
      " 0 0 0 0 0 1 1 0 0 0 0 0 0 1 2 0 0 0 0 0 0 0 0 0 1 1 0 2 1 1 1 3 0 0 0 3 0\n",
      " 1 0 0 0 1 0 2 3 0 2 1 0 0]\n"
     ]
    }
   ],
   "source": [
    "predictions = knn.predict(x_test)\n",
    "print(predictions)"
   ]
  },
  {
   "cell_type": "code",
   "execution_count": 750,
   "metadata": {},
   "outputs": [
    {
     "name": "stdout",
     "output_type": "stream",
     "text": [
      "0.7630057803468208\n"
     ]
    }
   ],
   "source": [
    "accuracy = metrics.accuracy_score(y_test, predictions)\n",
    "print(accuracy)"
   ]
  },
  {
   "cell_type": "code",
   "execution_count": 751,
   "metadata": {},
   "outputs": [
    {
     "name": "stdout",
     "output_type": "stream",
     "text": [
      "0 0\n",
      "0 1\n",
      "1 1\n",
      "0 0\n",
      "1 0\n",
      "0 0\n",
      "0 0\n",
      "1 0\n",
      "0 0\n",
      "0 0\n",
      "1 0\n",
      "0 0\n",
      "0 0\n",
      "1 1\n",
      "0 1\n",
      "0 0\n",
      "1 1\n",
      "0 1\n",
      "0 0\n",
      "1 1\n",
      "0 2\n",
      "0 0\n",
      "1 0\n",
      "0 0\n",
      "0 0\n",
      "1 1\n",
      "0 1\n",
      "0 0\n",
      "1 1\n",
      "0 2\n",
      "0 0\n",
      "1 0\n",
      "0 0\n",
      "0 0\n",
      "1 0\n",
      "0 0\n",
      "0 0\n",
      "1 0\n",
      "0 0\n",
      "0 0\n",
      "1 1\n",
      "0 1\n",
      "0 0\n",
      "1 1\n",
      "0 1\n",
      "0 0\n",
      "1 1\n",
      "0 2\n",
      "0 0\n",
      "1 1\n",
      "0 1\n",
      "0 0\n",
      "1 1\n",
      "0 2\n",
      "0 0\n",
      "1 1\n",
      "0 2\n",
      "0 0\n",
      "1 0\n",
      "0 0\n",
      "0 0\n",
      "1 0\n",
      "0 0\n",
      "0 0\n",
      "1 0\n",
      "0 0\n",
      "0 0\n",
      "1 1\n",
      "0 1\n",
      "0 0\n",
      "1 1\n",
      "0 2\n",
      "0 0\n",
      "1 1\n",
      "0 2\n",
      "0 0\n",
      "1 1\n",
      "0 1\n",
      "0 0\n",
      "1 1\n",
      "0 2\n",
      "0 0\n",
      "1 1\n",
      "0 2\n",
      "0 0\n",
      "1 0\n",
      "0 0\n",
      "0 0\n",
      "1 0\n",
      "0 0\n",
      "0 0\n",
      "1 0\n",
      "0 0\n",
      "0 0\n",
      "1 1\n",
      "0 1\n",
      "0 0\n",
      "1 1\n",
      "0 2\n",
      "0 0\n",
      "1 1\n",
      "0 2\n",
      "0 0\n",
      "1 1\n",
      "0 1\n",
      "0 0\n",
      "1 1\n",
      "0 2\n",
      "0 0\n",
      "1 1\n",
      "0 2\n",
      "0 0\n",
      "0 0\n",
      "2 0\n",
      "0 0\n",
      "0 0\n",
      "2 0\n",
      "0 0\n",
      "0 0\n",
      "2 0\n",
      "0 0\n",
      "0 1\n",
      "2 3\n",
      "0 0\n",
      "0 1\n",
      "2 3\n",
      "0 0\n",
      "0 3\n",
      "2 2\n",
      "0 0\n",
      "0 0\n",
      "2 0\n",
      "0 0\n",
      "0 1\n",
      "2 3\n",
      "0 0\n",
      "0 3\n",
      "2 2\n",
      "0 0\n",
      "0 0\n",
      "2 0\n",
      "0 0\n",
      "0 0\n",
      "2 0\n",
      "0 0\n",
      "0 0\n",
      "2 0\n",
      "0 0\n",
      "0 1\n",
      "2 3\n",
      "0 0\n",
      "0 1\n",
      "2 3\n",
      "0 0\n",
      "0 3\n",
      "2 2\n",
      "0 0\n",
      "0 1\n",
      "2 3\n",
      "0 0\n",
      "0 3\n",
      "2 2\n",
      "0 0\n",
      "0 3\n",
      "2 2\n",
      "0 0\n",
      "0 0\n",
      "2 0\n",
      "0 0\n",
      "0 0\n",
      "2 0\n",
      "0 0\n",
      "0 0\n",
      "2 0\n",
      "0 0\n",
      "0 1\n",
      "2 3\n",
      "0 0\n",
      "0 3\n",
      "2 2\n",
      "0 0\n",
      "0 3\n",
      "2 2\n",
      "0 0\n",
      "0 1\n",
      "2 3\n",
      "0 0\n",
      "0 3\n",
      "2 2\n",
      "0 0\n",
      "0 3\n",
      "2 2\n",
      "0 0\n",
      "0 0\n",
      "2 0\n",
      "0 0\n",
      "0 0\n",
      "2 0\n",
      "0 0\n",
      "0 0\n"
     ]
    }
   ],
   "source": [
    "for i in range(1400,1600):\n",
    "    #print(type(x))\n",
    "    #x1 = np.expand_dims(x[i],axis=0)\n",
    "    #print(x1.shape)\n",
    "    p1 = knn.predict(x)[i]\n",
    "    print(p1,y[i])"
   ]
  },
  {
   "cell_type": "code",
   "execution_count": 752,
   "metadata": {},
   "outputs": [
    {
     "name": "stdout",
     "output_type": "stream",
     "text": [
      "2) SVM - Support Vector Machine\n",
      "['sepal length (cm)', 'sepal width (cm)', 'petal length (cm)', 'petal width (cm)']\n",
      "['setosa' 'versicolor' 'virginica']\n",
      "(150, 4) (150,)\n",
      "['setosa' 'versicolor' 'virginica']\n"
     ]
    }
   ],
   "source": [
    "print(      '2) SVM - Support Vector Machine'       )\n",
    "\n",
    "from sklearn import datasets\n",
    "from sklearn.model_selection import train_test_split\n",
    "from sklearn import svm\n",
    "iris  = datasets.load_iris()\n",
    "x = iris.data\n",
    "y = iris.target\n",
    "print(iris.feature_names)\n",
    "print(iris.target_names)\n",
    "print(x.shape, y.shape)\n",
    "classes = iris.target_names\n",
    "print(classes)"
   ]
  },
  {
   "cell_type": "code",
   "execution_count": 753,
   "metadata": {},
   "outputs": [
    {
     "name": "stdout",
     "output_type": "stream",
     "text": [
      "(120, 4)\n",
      "(120,)\n",
      "(30, 4)\n",
      "(30,)\n",
      "[5.8 2.7 5.1 1.9] 2\n"
     ]
    }
   ],
   "source": [
    "x_train, x_test, y_train, y_test = train_test_split(x,y, test_size=0.2)\n",
    "print(x_train.shape)\n",
    "print(y_train.shape)\n",
    "print(x_test.shape)\n",
    "print(y_test.shape)\n",
    "print(x_train[0], y_train[0])\n"
   ]
  },
  {
   "cell_type": "code",
   "execution_count": 754,
   "metadata": {},
   "outputs": [
    {
     "name": "stdout",
     "output_type": "stream",
     "text": [
      "0.9\n",
      "              precision    recall  f1-score   support\n",
      "\n",
      "           0       1.00      1.00      1.00        10\n",
      "           1       0.90      0.82      0.86        11\n",
      "           2       0.80      0.89      0.84         9\n",
      "\n",
      "    accuracy                           0.90        30\n",
      "   macro avg       0.90      0.90      0.90        30\n",
      "weighted avg       0.90      0.90      0.90        30\n",
      "\n"
     ]
    },
    {
     "name": "stderr",
     "output_type": "stream",
     "text": [
      "/opt/anaconda3/lib/python3.7/site-packages/sklearn/svm/base.py:193: FutureWarning: The default value of gamma will change from 'auto' to 'scale' in version 0.22 to account better for unscaled features. Set gamma explicitly to 'auto' or 'scale' to avoid this warning.\n",
      "  \"avoid this warning.\", FutureWarning)\n"
     ]
    }
   ],
   "source": [
    "model = svm.SVC()\n",
    "model.fit(x_train, y_train)\n",
    "predictions = model.predict(x_test)\n",
    "accuracy = metrics.accuracy_score(y_test, predictions)\n",
    "print(accuracy)\n",
    "print(metrics.classification_report(y_test, predictions))"
   ]
  },
  {
   "cell_type": "code",
   "execution_count": 755,
   "metadata": {},
   "outputs": [
    {
     "name": "stdout",
     "output_type": "stream",
     "text": [
      "2 2\n"
     ]
    }
   ],
   "source": [
    "i=100\n",
    "p1 = model.predict(x)[i]\n",
    "print(p1, y[i])"
   ]
  },
  {
   "cell_type": "code",
   "execution_count": 756,
   "metadata": {},
   "outputs": [
    {
     "name": "stdout",
     "output_type": "stream",
     "text": [
      "3) Linear Regression Model\n",
      "Tutorial 26- Linear Regression Indepth Maths Intuition- Data Science  Youtube/Krish\n",
      "['CRIM' 'ZN' 'INDUS' 'CHAS' 'NOX' 'RM' 'AGE' 'DIS' 'RAD' 'TAX' 'PTRATIO'\n",
      " 'B' 'LSTAT']\n",
      "[24.  21.6 34.7 33.4 36.2 28.7 22.9 27.1 16.5 18.9 15.  18.9 21.7 20.4\n",
      " 18.2 19.9 23.1 17.5 20.2 18.2 13.6 19.6 15.2 14.5 15.6 13.9 16.6 14.8\n",
      " 18.4 21.  12.7 14.5 13.2 13.1 13.5 18.9 20.  21.  24.7 30.8 34.9 26.6\n",
      " 25.3 24.7 21.2 19.3 20.  16.6 14.4 19.4 19.7 20.5 25.  23.4 18.9 35.4\n",
      " 24.7 31.6 23.3 19.6 18.7 16.  22.2 25.  33.  23.5 19.4 22.  17.4 20.9\n",
      " 24.2 21.7 22.8 23.4 24.1 21.4 20.  20.8 21.2 20.3 28.  23.9 24.8 22.9\n",
      " 23.9 26.6 22.5 22.2 23.6 28.7 22.6 22.  22.9 25.  20.6 28.4 21.4 38.7\n",
      " 43.8 33.2 27.5 26.5 18.6 19.3 20.1 19.5 19.5 20.4 19.8 19.4 21.7 22.8\n",
      " 18.8 18.7 18.5 18.3 21.2 19.2 20.4 19.3 22.  20.3 20.5 17.3 18.8 21.4\n",
      " 15.7 16.2 18.  14.3 19.2 19.6 23.  18.4 15.6 18.1 17.4 17.1 13.3 17.8\n",
      " 14.  14.4 13.4 15.6 11.8 13.8 15.6 14.6 17.8 15.4 21.5 19.6 15.3 19.4\n",
      " 17.  15.6 13.1 41.3 24.3 23.3 27.  50.  50.  50.  22.7 25.  50.  23.8\n",
      " 23.8 22.3 17.4 19.1 23.1 23.6 22.6 29.4 23.2 24.6 29.9 37.2 39.8 36.2\n",
      " 37.9 32.5 26.4 29.6 50.  32.  29.8 34.9 37.  30.5 36.4 31.1 29.1 50.\n",
      " 33.3 30.3 34.6 34.9 32.9 24.1 42.3 48.5 50.  22.6 24.4 22.5 24.4 20.\n",
      " 21.7 19.3 22.4 28.1 23.7 25.  23.3 28.7 21.5 23.  26.7 21.7 27.5 30.1\n",
      " 44.8 50.  37.6 31.6 46.7 31.5 24.3 31.7 41.7 48.3 29.  24.  25.1 31.5\n",
      " 23.7 23.3 22.  20.1 22.2 23.7 17.6 18.5 24.3 20.5 24.5 26.2 24.4 24.8\n",
      " 29.6 42.8 21.9 20.9 44.  50.  36.  30.1 33.8 43.1 48.8 31.  36.5 22.8\n",
      " 30.7 50.  43.5 20.7 21.1 25.2 24.4 35.2 32.4 32.  33.2 33.1 29.1 35.1\n",
      " 45.4 35.4 46.  50.  32.2 22.  20.1 23.2 22.3 24.8 28.5 37.3 27.9 23.9\n",
      " 21.7 28.6 27.1 20.3 22.5 29.  24.8 22.  26.4 33.1 36.1 28.4 33.4 28.2\n",
      " 22.8 20.3 16.1 22.1 19.4 21.6 23.8 16.2 17.8 19.8 23.1 21.  23.8 23.1\n",
      " 20.4 18.5 25.  24.6 23.  22.2 19.3 22.6 19.8 17.1 19.4 22.2 20.7 21.1\n",
      " 19.5 18.5 20.6 19.  18.7 32.7 16.5 23.9 31.2 17.5 17.2 23.1 24.5 26.6\n",
      " 22.9 24.1 18.6 30.1 18.2 20.6 17.8 21.7 22.7 22.6 25.  19.9 20.8 16.8\n",
      " 21.9 27.5 21.9 23.1 50.  50.  50.  50.  50.  13.8 13.8 15.  13.9 13.3\n",
      " 13.1 10.2 10.4 10.9 11.3 12.3  8.8  7.2 10.5  7.4 10.2 11.5 15.1 23.2\n",
      "  9.7 13.8 12.7 13.1 12.5  8.5  5.   6.3  5.6  7.2 12.1  8.3  8.5  5.\n",
      " 11.9 27.9 17.2 27.5 15.  17.2 17.9 16.3  7.   7.2  7.5 10.4  8.8  8.4\n",
      " 16.7 14.2 20.8 13.4 11.7  8.3 10.2 10.9 11.   9.5 14.5 14.1 16.1 14.3\n",
      " 11.7 13.4  9.6  8.7  8.4 12.8 10.5 17.1 18.4 15.4 10.8 11.8 14.9 12.6\n",
      " 14.1 13.  13.4 15.2 16.1 17.8 14.9 14.1 12.7 13.5 14.9 20.  16.4 17.7\n",
      " 19.5 20.2 21.4 19.9 19.  19.1 19.1 20.1 19.9 19.6 23.2 29.8 13.8 13.3\n",
      " 16.7 12.  14.6 21.4 23.  23.7 25.  21.8 20.6 21.2 19.1 20.6 15.2  7.\n",
      "  8.1 13.6 20.1 21.8 24.5 23.1 19.7 18.3 21.2 17.5 16.8 22.4 20.6 23.9\n",
      " 22.  11.9]\n",
      "[[6.3200e-03 1.8000e+01 2.3100e+00 ... 1.5300e+01 3.9690e+02 4.9800e+00]\n",
      " [2.7310e-02 0.0000e+00 7.0700e+00 ... 1.7800e+01 3.9690e+02 9.1400e+00]\n",
      " [2.7290e-02 0.0000e+00 7.0700e+00 ... 1.7800e+01 3.9283e+02 4.0300e+00]\n",
      " ...\n",
      " [6.0760e-02 0.0000e+00 1.1930e+01 ... 2.1000e+01 3.9690e+02 5.6400e+00]\n",
      " [1.0959e-01 0.0000e+00 1.1930e+01 ... 2.1000e+01 3.9345e+02 6.4800e+00]\n",
      " [4.7410e-02 0.0000e+00 1.1930e+01 ... 2.1000e+01 3.9690e+02 7.8800e+00]]\n"
     ]
    }
   ],
   "source": [
    "print(      '3) Linear Regression Model'      )\n",
    "\n",
    "print ('Tutorial 26- Linear Regression Indepth Maths Intuition- Data Science  Youtube/Krish')\n",
    "\n",
    "from sklearn import datasets\n",
    "from sklearn.model_selection import train_test_split\n",
    "from sklearn import linear_model\n",
    "import matplotlib.pyplot as plt\n",
    "\n",
    "boston = datasets.load_boston()\n",
    "print(boston.feature_names)\n",
    "#print(boston.target_names)\n",
    "print(boston.target)\n",
    "print(boston.data)\n"
   ]
  },
  {
   "cell_type": "code",
   "execution_count": 757,
   "metadata": {},
   "outputs": [
    {
     "name": "stdout",
     "output_type": "stream",
     "text": [
      ".. _boston_dataset:\n",
      "\n",
      "Boston house prices dataset\n",
      "---------------------------\n",
      "\n",
      "**Data Set Characteristics:**  \n",
      "\n",
      "    :Number of Instances: 506 \n",
      "\n",
      "    :Number of Attributes: 13 numeric/categorical predictive. Median Value (attribute 14) is usually the target.\n",
      "\n",
      "    :Attribute Information (in order):\n",
      "        - CRIM     per capita crime rate by town\n",
      "        - ZN       proportion of residential land zoned for lots over 25,000 sq.ft.\n",
      "        - INDUS    proportion of non-retail business acres per town\n",
      "        - CHAS     Charles River dummy variable (= 1 if tract bounds river; 0 otherwise)\n",
      "        - NOX      nitric oxides concentration (parts per 10 million)\n",
      "        - RM       average number of rooms per dwelling\n",
      "        - AGE      proportion of owner-occupied units built prior to 1940\n",
      "        - DIS      weighted distances to five Boston employment centres\n",
      "        - RAD      index of accessibility to radial highways\n",
      "        - TAX      full-value property-tax rate per $10,000\n",
      "        - PTRATIO  pupil-teacher ratio by town\n",
      "        - B        1000(Bk - 0.63)^2 where Bk is the proportion of blacks by town\n",
      "        - LSTAT    % lower status of the population\n",
      "        - MEDV     Median value of owner-occupied homes in $1000's\n",
      "\n",
      "    :Missing Attribute Values: None\n",
      "\n",
      "    :Creator: Harrison, D. and Rubinfeld, D.L.\n",
      "\n",
      "This is a copy of UCI ML housing dataset.\n",
      "https://archive.ics.uci.edu/ml/machine-learning-databases/housing/\n",
      "\n",
      "\n",
      "This dataset was taken from the StatLib library which is maintained at Carnegie Mellon University.\n",
      "\n",
      "The Boston house-price data of Harrison, D. and Rubinfeld, D.L. 'Hedonic\n",
      "prices and the demand for clean air', J. Environ. Economics & Management,\n",
      "vol.5, 81-102, 1978.   Used in Belsley, Kuh & Welsch, 'Regression diagnostics\n",
      "...', Wiley, 1980.   N.B. Various transformations are used in the table on\n",
      "pages 244-261 of the latter.\n",
      "\n",
      "The Boston house-price data has been used in many machine learning papers that address regression\n",
      "problems.   \n",
      "     \n",
      ".. topic:: References\n",
      "\n",
      "   - Belsley, Kuh & Welsch, 'Regression diagnostics: Identifying Influential Data and Sources of Collinearity', Wiley, 1980. 244-261.\n",
      "   - Quinlan,R. (1993). Combining Instance-Based and Model-Based Learning. In Proceedings on the Tenth International Conference of Machine Learning, 236-243, University of Massachusetts, Amherst. Morgan Kaufmann.\n",
      "\n"
     ]
    }
   ],
   "source": [
    "print(boston.DESCR)"
   ]
  },
  {
   "cell_type": "code",
   "execution_count": 758,
   "metadata": {},
   "outputs": [
    {
     "name": "stdout",
     "output_type": "stream",
     "text": [
      "(506, 13) (506,)\n",
      "<class 'numpy.ndarray'>\n",
      "[6.320e-03 1.800e+01 2.310e+00 0.000e+00 5.380e-01 6.575e+00 6.520e+01\n",
      " 4.090e+00 1.000e+00 2.960e+02 1.530e+01 3.969e+02 4.980e+00] 24.0\n"
     ]
    }
   ],
   "source": [
    "import seaborn as sns\n",
    "x = boston.data\n",
    "y = boston.target\n",
    "print(x.shape, y.shape)\n",
    "print(type(x.T[0]))\n",
    "print(x[0], y[0])\n"
   ]
  },
  {
   "cell_type": "code",
   "execution_count": 759,
   "metadata": {},
   "outputs": [
    {
     "name": "stdout",
     "output_type": "stream",
     "text": [
      "(13,) (506,)\n",
      "[6.320e-03 1.800e+01 2.310e+00 0.000e+00 5.380e-01 6.575e+00 6.520e+01\n",
      " 4.090e+00 1.000e+00 2.960e+02 1.530e+01 3.969e+02 4.980e+00] [6.32000e-03 2.73100e-02 2.72900e-02 3.23700e-02 6.90500e-02 2.98500e-02\n",
      " 8.82900e-02 1.44550e-01 2.11240e-01 1.70040e-01 2.24890e-01 1.17470e-01\n",
      " 9.37800e-02 6.29760e-01 6.37960e-01 6.27390e-01 1.05393e+00 7.84200e-01\n",
      " 8.02710e-01 7.25800e-01 1.25179e+00 8.52040e-01 1.23247e+00 9.88430e-01\n",
      " 7.50260e-01 8.40540e-01 6.71910e-01 9.55770e-01 7.72990e-01 1.00245e+00\n",
      " 1.13081e+00 1.35472e+00 1.38799e+00 1.15172e+00 1.61282e+00 6.41700e-02\n",
      " 9.74400e-02 8.01400e-02 1.75050e-01 2.76300e-02 3.35900e-02 1.27440e-01\n",
      " 1.41500e-01 1.59360e-01 1.22690e-01 1.71420e-01 1.88360e-01 2.29270e-01\n",
      " 2.53870e-01 2.19770e-01 8.87300e-02 4.33700e-02 5.36000e-02 4.98100e-02\n",
      " 1.36000e-02 1.31100e-02 2.05500e-02 1.43200e-02 1.54450e-01 1.03280e-01\n",
      " 1.49320e-01 1.71710e-01 1.10270e-01 1.26500e-01 1.95100e-02 3.58400e-02\n",
      " 4.37900e-02 5.78900e-02 1.35540e-01 1.28160e-01 8.82600e-02 1.58760e-01\n",
      " 9.16400e-02 1.95390e-01 7.89600e-02 9.51200e-02 1.01530e-01 8.70700e-02\n",
      " 5.64600e-02 8.38700e-02 4.11300e-02 4.46200e-02 3.65900e-02 3.55100e-02\n",
      " 5.05900e-02 5.73500e-02 5.18800e-02 7.15100e-02 5.66000e-02 5.30200e-02\n",
      " 4.68400e-02 3.93200e-02 4.20300e-02 2.87500e-02 4.29400e-02 1.22040e-01\n",
      " 1.15040e-01 1.20830e-01 8.18700e-02 6.86000e-02 1.48660e-01 1.14320e-01\n",
      " 2.28760e-01 2.11610e-01 1.39600e-01 1.32620e-01 1.71200e-01 1.31170e-01\n",
      " 1.28020e-01 2.63630e-01 1.07930e-01 1.00840e-01 1.23290e-01 2.22120e-01\n",
      " 1.42310e-01 1.71340e-01 1.31580e-01 1.50980e-01 1.30580e-01 1.44760e-01\n",
      " 6.89900e-02 7.16500e-02 9.29900e-02 1.50380e-01 9.84900e-02 1.69020e-01\n",
      " 3.87350e-01 2.59150e-01 3.25430e-01 8.81250e-01 3.40060e-01 1.19294e+00\n",
      " 5.90050e-01 3.29820e-01 9.76170e-01 5.57780e-01 3.22640e-01 3.52330e-01\n",
      " 2.49800e-01 5.44520e-01 2.90900e-01 1.62864e+00 3.32105e+00 4.09740e+00\n",
      " 2.77974e+00 2.37934e+00 2.15505e+00 2.36862e+00 2.33099e+00 2.73397e+00\n",
      " 1.65660e+00 1.49632e+00 1.12658e+00 2.14918e+00 1.41385e+00 3.53501e+00\n",
      " 2.44668e+00 1.22358e+00 1.34284e+00 1.42502e+00 1.27346e+00 1.46336e+00\n",
      " 1.83377e+00 1.51902e+00 2.24236e+00 2.92400e+00 2.01019e+00 1.80028e+00\n",
      " 2.30040e+00 2.44953e+00 1.20742e+00 2.31390e+00 1.39140e-01 9.17800e-02\n",
      " 8.44700e-02 6.66400e-02 7.02200e-02 5.42500e-02 6.64200e-02 5.78000e-02\n",
      " 6.58800e-02 6.88800e-02 9.10300e-02 1.00080e-01 8.30800e-02 6.04700e-02\n",
      " 5.60200e-02 7.87500e-02 1.25790e-01 8.37000e-02 9.06800e-02 6.91100e-02\n",
      " 8.66400e-02 2.18700e-02 1.43900e-02 1.38100e-02 4.01100e-02 4.66600e-02\n",
      " 3.76800e-02 3.15000e-02 1.77800e-02 3.44500e-02 2.17700e-02 3.51000e-02\n",
      " 2.00900e-02 1.36420e-01 2.29690e-01 2.51990e-01 1.35870e-01 4.35710e-01\n",
      " 1.74460e-01 3.75780e-01 2.17190e-01 1.40520e-01 2.89550e-01 1.98020e-01\n",
      " 4.56000e-02 7.01300e-02 1.10690e-01 1.14250e-01 3.58090e-01 4.07710e-01\n",
      " 6.23560e-01 6.14700e-01 3.15330e-01 5.26930e-01 3.82140e-01 4.12380e-01\n",
      " 2.98190e-01 4.41780e-01 5.37000e-01 4.62960e-01 5.75290e-01 3.31470e-01\n",
      " 4.47910e-01 3.30450e-01 5.20580e-01 5.11830e-01 8.24400e-02 9.25200e-02\n",
      " 1.13290e-01 1.06120e-01 1.02900e-01 1.27570e-01 2.06080e-01 1.91330e-01\n",
      " 3.39830e-01 1.96570e-01 1.64390e-01 1.90730e-01 1.40300e-01 2.14090e-01\n",
      " 8.22100e-02 3.68940e-01 4.81900e-02 3.54800e-02 1.53800e-02 6.11540e-01\n",
      " 6.63510e-01 6.56650e-01 5.40110e-01 5.34120e-01 5.20140e-01 8.25260e-01\n",
      " 5.50070e-01 7.61620e-01 7.85700e-01 5.78340e-01 5.40500e-01 9.06500e-02\n",
      " 2.99160e-01 1.62110e-01 1.14600e-01 2.21880e-01 5.64400e-02 9.60400e-02\n",
      " 1.04690e-01 6.12700e-02 7.97800e-02 2.10380e-01 3.57800e-02 3.70500e-02\n",
      " 6.12900e-02 1.50100e-02 9.06000e-03 1.09600e-02 1.96500e-02 3.87100e-02\n",
      " 4.59000e-02 4.29700e-02 3.50200e-02 7.88600e-02 3.61500e-02 8.26500e-02\n",
      " 8.19900e-02 1.29320e-01 5.37200e-02 1.41030e-01 6.46600e-02 5.56100e-02\n",
      " 4.41700e-02 3.53700e-02 9.26600e-02 1.00000e-01 5.51500e-02 5.47900e-02\n",
      " 7.50300e-02 4.93200e-02 4.92980e-01 3.49400e-01 2.63548e+00 7.90410e-01\n",
      " 2.61690e-01 2.69380e-01 3.69200e-01 2.53560e-01 3.18270e-01 2.45220e-01\n",
      " 4.02020e-01 4.75470e-01 1.67600e-01 1.81590e-01 3.51140e-01 2.83920e-01\n",
      " 3.41090e-01 1.91860e-01 3.03470e-01 2.41030e-01 6.61700e-02 6.72400e-02\n",
      " 4.54400e-02 5.02300e-02 3.46600e-02 5.08300e-02 3.73800e-02 3.96100e-02\n",
      " 3.42700e-02 3.04100e-02 3.30600e-02 5.49700e-02 6.15100e-02 1.30100e-02\n",
      " 2.49800e-02 2.54300e-02 3.04900e-02 3.11300e-02 6.16200e-02 1.87000e-02\n",
      " 1.50100e-02 2.89900e-02 6.21100e-02 7.95000e-02 7.24400e-02 1.70900e-02\n",
      " 4.30100e-02 1.06590e-01 8.98296e+00 3.84970e+00 5.20177e+00 4.26131e+00\n",
      " 4.54192e+00 3.83684e+00 3.67822e+00 4.22239e+00 3.47428e+00 4.55587e+00\n",
      " 3.69695e+00 1.35222e+01 4.89822e+00 5.66998e+00 6.53876e+00 9.23230e+00\n",
      " 8.26725e+00 1.11081e+01 1.84982e+01 1.96091e+01 1.52880e+01 9.82349e+00\n",
      " 2.36482e+01 1.78667e+01 8.89762e+01 1.58744e+01 9.18702e+00 7.99248e+00\n",
      " 2.00849e+01 1.68118e+01 2.43938e+01 2.25971e+01 1.43337e+01 8.15174e+00\n",
      " 6.96215e+00 5.29305e+00 1.15779e+01 8.64476e+00 1.33598e+01 8.71675e+00\n",
      " 5.87205e+00 7.67202e+00 3.83518e+01 9.91655e+00 2.50461e+01 1.42362e+01\n",
      " 9.59571e+00 2.48017e+01 4.15292e+01 6.79208e+01 2.07162e+01 1.19511e+01\n",
      " 7.40389e+00 1.44383e+01 5.11358e+01 1.40507e+01 1.88110e+01 2.86558e+01\n",
      " 4.57461e+01 1.80846e+01 1.08342e+01 2.59406e+01 7.35341e+01 1.18123e+01\n",
      " 1.10874e+01 7.02259e+00 1.20482e+01 7.05042e+00 8.79212e+00 1.58603e+01\n",
      " 1.22472e+01 3.76619e+01 7.36711e+00 9.33889e+00 8.49213e+00 1.00623e+01\n",
      " 6.44405e+00 5.58107e+00 1.39134e+01 1.11604e+01 1.44208e+01 1.51772e+01\n",
      " 1.36781e+01 9.39063e+00 2.20511e+01 9.72418e+00 5.66637e+00 9.96654e+00\n",
      " 1.28023e+01 1.06718e+01 6.28807e+00 9.92485e+00 9.32909e+00 7.52601e+00\n",
      " 6.71772e+00 5.44114e+00 5.09017e+00 8.24809e+00 9.51363e+00 4.75237e+00\n",
      " 4.66883e+00 8.20058e+00 7.75223e+00 6.80117e+00 4.81213e+00 3.69311e+00\n",
      " 6.65492e+00 5.82115e+00 7.83932e+00 3.16360e+00 3.77498e+00 4.42228e+00\n",
      " 1.55757e+01 1.30751e+01 4.34879e+00 4.03841e+00 3.56868e+00 4.64689e+00\n",
      " 8.05579e+00 6.39312e+00 4.87141e+00 1.50234e+01 1.02330e+01 1.43337e+01\n",
      " 5.82401e+00 5.70818e+00 5.73116e+00 2.81838e+00 2.37857e+00 3.67367e+00\n",
      " 5.69175e+00 4.83567e+00 1.50860e-01 1.83370e-01 2.07460e-01 1.05740e-01\n",
      " 1.11320e-01 1.73310e-01 2.79570e-01 1.78990e-01 2.89600e-01 2.68380e-01\n",
      " 2.39120e-01 1.77830e-01 2.24380e-01 6.26300e-02 4.52700e-02 6.07600e-02\n",
      " 1.09590e-01 4.74100e-02]\n"
     ]
    },
    {
     "data": {
      "image/png": "[encoded data removed]",
      "text/plain": [
       "<Figure size 432x288 with 1 Axes>"
      ]
     },
     "metadata": {
      "needs_background": "light"
     },
     "output_type": "display_data"
    }
   ],
   "source": [
    "print(x[0].shape, x.T[0].shape)\n",
    "print(x[0], x.T[0])\n",
    "sns.scatterplot(x.T[0],y)\n",
    "plt.show()\n"
   ]
  },
  {
   "cell_type": "code",
   "execution_count": 760,
   "metadata": {},
   "outputs": [
    {
     "name": "stdout",
     "output_type": "stream",
     "text": [
      "(404, 13)\n",
      "(404,)\n",
      "(102, 13)\n",
      "(102,)\n",
      "[2.4522e-01 0.0000e+00 9.9000e+00 0.0000e+00 5.4400e-01 5.7820e+00\n",
      " 7.1700e+01 4.0317e+00 4.0000e+00 3.0400e+02 1.8400e+01 3.9690e+02\n",
      " 1.5940e+01] 19.8\n"
     ]
    }
   ],
   "source": [
    "x_train, x_test, y_train, y_test = train_test_split(x,y,test_size=0.2)\n",
    "print(x_train.shape)\n",
    "print(y_train.shape)\n",
    "print(x_test.shape)\n",
    "print(y_test.shape)\n",
    "print(x_train[0], y_train[0])\n"
   ]
  },
  {
   "cell_type": "code",
   "execution_count": 761,
   "metadata": {},
   "outputs": [
    {
     "name": "stdout",
     "output_type": "stream",
     "text": [
      "[36.56363741 40.05139804 17.05430369  9.75664734 16.58082254 22.32521713\n",
      " 19.72447432 18.96887925 26.95545579 27.40454421 19.86899383 18.64704434\n",
      " 33.21508896 25.51608705 29.50396415 20.94515359 15.06629879  6.25484441\n",
      " 27.62568732 36.80500395 21.23245255 19.65080693  3.67173919 20.47058999\n",
      " 22.56647883 14.84354008 10.02104769 16.71522548 21.47330876 17.97110792\n",
      " 27.89882537 34.84007868 22.34062676 31.4106394  25.33632685 41.38982436\n",
      " 33.14286179 25.24649024 31.81399584 28.51842681 28.45053811 20.47074679\n",
      " 33.70464461 27.2289828  33.80464763 32.24366554 30.58811715 16.91879003\n",
      " 18.47781168 43.52372464 15.32053065 24.39974169 23.70699805 18.63794404\n",
      " 16.70421531 34.04951906 27.68618895 21.17256965 23.10108347 17.69563257\n",
      " 19.48317108 17.11312982 17.53970117 15.4063916  24.69486472 25.22552976\n",
      " 18.08701983 19.96470597 22.55553756  6.16418713 18.82440938 20.64809383\n",
      " 16.0791624  20.32451027 30.65293109 19.81034211 18.84875659 29.13920485\n",
      " 18.70027667 24.64526098 32.47441883 21.82093414 22.59474551 32.85435257\n",
      " 22.51286773 25.25319852 19.45434486 26.81511754 21.2279785  25.11437726\n",
      " 28.35944127 31.26789521 29.27429767 17.23594029 24.17769069 35.51351176\n",
      " 15.34855924 14.43988154 17.01093229 17.68533827 20.19508504 19.49144838]\n"
     ]
    }
   ],
   "source": [
    "l_reg = linear_model.LinearRegression()\n",
    "model = l_reg.fit(x_train, y_train)\n",
    "prediction = model.predict(x_test)\n",
    "print(prediction)\n"
   ]
  },
  {
   "cell_type": "code",
   "execution_count": 762,
   "metadata": {},
   "outputs": [
    {
     "name": "stdout",
     "output_type": "stream",
     "text": [
      "R^2_Score:  0.7394376907844488\n",
      "weights coefficient :  [-1.18037349e-01  4.45786528e-02  3.39164274e-02  2.23849344e+00\n",
      " -1.87174137e+01  3.36602772e+00  3.31548819e-03 -1.48957448e+00\n",
      "  3.22329266e-01 -1.33805222e-02 -9.63842182e-01  7.76704390e-03\n",
      " -5.46878228e-01]\n",
      "This data has 13 nos. feature columns, therefore, it has 13 nos. slops for each input feature\n",
      "Intercept weight :  40.84583410865169\n"
     ]
    }
   ],
   "source": [
    "'''The coefficient R^2 = (1-u/v), where u = ((y_true - y_pred) ** 2).sum() and v = ((y_true - y_true.mean()) ** 2).sum(). \n",
    "The best possible score is 1.0 and it can be negative (because the model can be arbitrarily worse).'''\n",
    "print('R^2_Score: ', model.score(x, y))\n",
    "''' y = w0 + w1x1+ w2x2----wpxp, \n",
    "w0 = intercept\n",
    "(w1,w2--wp) = coefficents, total number of coefficients = total number of slops = number of input feature columns\n",
    "'''\n",
    "print ('weights coefficient : ', model.coef_)\n",
    "print('This data has 13 nos. feature columns, therefore, it has 13 nos. slops for each input feature')\n",
    "print ('Intercept weight : ', model.intercept_)\n"
   ]
  },
  {
   "cell_type": "code",
   "execution_count": 763,
   "metadata": {},
   "outputs": [
    {
     "data": {
      "image/png": "[encoded data removed]",
      "text/plain": [
       "<Figure size 432x288 with 1 Axes>"
      ]
     },
     "metadata": {
      "needs_background": "light"
     },
     "output_type": "display_data"
    }
   ],
   "source": [
    "import seaborn as sns\n",
    "sns.scatterplot(y_test, prediction)\n",
    "plt.xlabel('True')\n",
    "plt.ylabel('Predictions')\n",
    "plt.show()"
   ]
  },
  {
   "cell_type": "code",
   "execution_count": 764,
   "metadata": {},
   "outputs": [
    {
     "name": "stdout",
     "output_type": "stream",
     "text": [
      "[0.5 0.5]\n",
      "1.1102230246251565e-16\n"
     ]
    }
   ],
   "source": [
    "from sklearn import linear_model\n",
    "reg = linear_model.LinearRegression()\n",
    "reg.fit([[0, 0], [1, 1], [2, 2]], [0, 1, 2])\n",
    "\n",
    "print(reg.coef_)\n",
    "print(reg.intercept_)"
   ]
  },
  {
   "cell_type": "code",
   "execution_count": 765,
   "metadata": {},
   "outputs": [
    {
     "name": "stdout",
     "output_type": "stream",
     "text": [
      "4)  KMeans Clustering\n"
     ]
    }
   ],
   "source": [
    "print(          '4)  KMeans Clustering'          )\n",
    "\n",
    "from sklearn import datasets\n",
    "from sklearn.cluster import KMeans\n",
    "from sklearn.model_selection import train_test_split\n",
    "from sklearn.metrics import accuracy_score\n",
    "from sklearn.preprocessing import scale\n",
    "bc = datasets.load_breast_cancer()"
   ]
  },
  {
   "cell_type": "code",
   "execution_count": 766,
   "metadata": {},
   "outputs": [
    {
     "name": "stdout",
     "output_type": "stream",
     "text": [
      "['mean radius' 'mean texture' 'mean perimeter' 'mean area'\n",
      " 'mean smoothness' 'mean compactness' 'mean concavity'\n",
      " 'mean concave points' 'mean symmetry' 'mean fractal dimension'\n",
      " 'radius error' 'texture error' 'perimeter error' 'area error'\n",
      " 'smoothness error' 'compactness error' 'concavity error'\n",
      " 'concave points error' 'symmetry error' 'fractal dimension error'\n",
      " 'worst radius' 'worst texture' 'worst perimeter' 'worst area'\n",
      " 'worst smoothness' 'worst compactness' 'worst concavity'\n",
      " 'worst concave points' 'worst symmetry' 'worst fractal dimension']\n",
      "['malignant' 'benign']\n",
      "(569, 30)\n",
      "(569,)\n",
      "[0 0 0 0 0 0 0 0 0 0 0 0 0 0 0 0 0 0 0 1 1 1 0 0 0 0 0 0 0 0 0 0 0 0 0 0 0\n",
      " 1 0 0 0 0 0 0 0 0 1 0 1 1 1 1 1 0 0 1 0 0 1 1 1 1 0 1 0 0 1 1 1 1 0 1 0 0\n",
      " 1 0 1 0 0 1 1 1 0 0 1 0 0 0 1 1 1 0 1 1 0 0 1 1 1 0 0 1 1 1 1 0 1 1 0 1 1\n",
      " 1 1 1 1 1 1 0 0 0 1 0 0 1 1 1 0 0 1 0 1 0 0 1 0 0 1 1 0 1 1 0 1 1 1 1 0 1\n",
      " 1 1 1 1 1 1 1 1 0 1 1 1 1 0 0 1 0 1 1 0 0 1 1 0 0 1 1 1 1 0 1 1 0 0 0 1 0\n",
      " 1 0 1 1 1 0 1 1 0 0 1 0 0 0 0 1 0 0 0 1 0 1 0 1 1 0 1 0 0 0 0 1 1 0 0 1 1\n",
      " 1 0 1 1 1 1 1 0 0 1 1 0 1 1 0 0 1 0 1 1 1 1 0 1 1 1 1 1 0 1 0 0 0 0 0 0 0\n",
      " 0 0 0 0 0 0 0 1 1 1 1 1 1 0 1 0 1 1 0 1 1 0 1 0 0 1 1 1 1 1 1 1 1 1 1 1 1\n",
      " 1 0 1 1 0 1 0 1 1 1 1 1 1 1 1 1 1 1 1 1 1 0 1 1 1 0 1 0 1 1 1 1 0 0 0 1 1\n",
      " 1 1 0 1 0 1 0 1 1 1 0 1 1 1 1 1 1 1 0 0 0 1 1 1 1 1 1 1 1 1 1 1 0 0 1 0 0\n",
      " 0 1 0 0 1 1 1 1 1 0 1 1 1 1 1 0 1 1 1 0 1 1 0 0 1 1 1 1 1 1 0 1 1 1 1 1 1\n",
      " 1 0 1 1 1 1 1 0 1 1 0 1 1 1 1 1 1 1 1 1 1 1 1 0 1 0 0 1 0 1 1 1 1 1 0 1 1\n",
      " 0 1 0 1 1 0 1 0 1 1 1 1 1 1 1 1 0 0 1 1 1 1 1 1 0 1 1 1 1 1 1 1 1 1 1 0 1\n",
      " 1 1 1 1 1 1 0 1 0 1 1 0 1 1 1 1 1 0 0 1 0 1 0 1 1 1 1 1 0 1 1 0 1 0 1 0 0\n",
      " 1 1 1 0 1 1 1 1 1 1 1 1 1 1 1 0 1 0 0 1 1 1 1 1 1 1 1 1 1 1 1 1 1 1 1 1 1\n",
      " 1 1 1 1 1 1 1 0 0 0 0 0 0 1]\n",
      "[[1.799e+01 1.038e+01 1.228e+02 ... 2.654e-01 4.601e-01 1.189e-01]\n",
      " [2.057e+01 1.777e+01 1.329e+02 ... 1.860e-01 2.750e-01 8.902e-02]\n",
      " [1.969e+01 2.125e+01 1.300e+02 ... 2.430e-01 3.613e-01 8.758e-02]\n",
      " ...\n",
      " [1.660e+01 2.808e+01 1.083e+02 ... 1.418e-01 2.218e-01 7.820e-02]\n",
      " [2.060e+01 2.933e+01 1.401e+02 ... 2.650e-01 4.087e-01 1.240e-01]\n",
      " [7.760e+00 2.454e+01 4.792e+01 ... 0.000e+00 2.871e-01 7.039e-02]]\n",
      "[[ 1.09706398 -2.07333501  1.26993369 ...  2.29607613  2.75062224\n",
      "   1.93701461]\n",
      " [ 1.82982061 -0.35363241  1.68595471 ...  1.0870843  -0.24388967\n",
      "   0.28118999]\n",
      " [ 1.57988811  0.45618695  1.56650313 ...  1.95500035  1.152255\n",
      "   0.20139121]\n",
      " ...\n",
      " [ 0.70228425  2.0455738   0.67267578 ...  0.41406869 -1.10454895\n",
      "  -0.31840916]\n",
      " [ 1.83834103  2.33645719  1.98252415 ...  2.28998549  1.91908301\n",
      "   2.21963528]\n",
      " [-1.80840125  1.22179204 -1.81438851 ... -1.74506282 -0.04813821\n",
      "  -0.75120669]]\n"
     ]
    }
   ],
   "source": [
    "print(bc.feature_names)\n",
    "print(bc.target_names)\n",
    "x = bc.data\n",
    "y = bc.target\n",
    "print(x.shape)\n",
    "print(y.shape)\n",
    "print(y)\n",
    "print(x)\n",
    "print(scale(x))\n",
    "x = scale(x)"
   ]
  },
  {
   "cell_type": "code",
   "execution_count": 767,
   "metadata": {},
   "outputs": [
    {
     "name": "stdout",
     "output_type": "stream",
     "text": [
      ".. _breast_cancer_dataset:\n",
      "\n",
      "Breast cancer wisconsin (diagnostic) dataset\n",
      "--------------------------------------------\n",
      "\n",
      "**Data Set Characteristics:**\n",
      "\n",
      "    :Number of Instances: 569\n",
      "\n",
      "    :Number of Attributes: 30 numeric, predictive attributes and the class\n",
      "\n",
      "    :Attribute Information:\n",
      "        - radius (mean of distances from center to points on the perimeter)\n",
      "        - texture (standard deviation of gray-scale values)\n",
      "        - perimeter\n",
      "        - area\n",
      "        - smoothness (local variation in radius lengths)\n",
      "        - compactness (perimeter^2 / area - 1.0)\n",
      "        - concavity (severity of concave portions of the contour)\n",
      "        - concave points (number of concave portions of the contour)\n",
      "        - symmetry \n",
      "        - fractal dimension (\"coastline approximation\" - 1)\n",
      "\n",
      "        The mean, standard error, and \"worst\" or largest (mean of the three\n",
      "        largest values) of these features were computed for each image,\n",
      "        resulting in 30 features.  For instance, field 3 is Mean Radius, field\n",
      "        13 is Radius SE, field 23 is Worst Radius.\n",
      "\n",
      "        - class:\n",
      "                - WDBC-Malignant\n",
      "                - WDBC-Benign\n",
      "\n",
      "    :Summary Statistics:\n",
      "\n",
      "    ===================================== ====== ======\n",
      "                                           Min    Max\n",
      "    ===================================== ====== ======\n",
      "    radius (mean):                        6.981  28.11\n",
      "    texture (mean):                       9.71   39.28\n",
      "    perimeter (mean):                     43.79  188.5\n",
      "    area (mean):                          143.5  2501.0\n",
      "    smoothness (mean):                    0.053  0.163\n",
      "    compactness (mean):                   0.019  0.345\n",
      "    concavity (mean):                     0.0    0.427\n",
      "    concave points (mean):                0.0    0.201\n",
      "    symmetry (mean):                      0.106  0.304\n",
      "    fractal dimension (mean):             0.05   0.097\n",
      "    radius (standard error):              0.112  2.873\n",
      "    texture (standard error):             0.36   4.885\n",
      "    perimeter (standard error):           0.757  21.98\n",
      "    area (standard error):                6.802  542.2\n",
      "    smoothness (standard error):          0.002  0.031\n",
      "    compactness (standard error):         0.002  0.135\n",
      "    concavity (standard error):           0.0    0.396\n",
      "    concave points (standard error):      0.0    0.053\n",
      "    symmetry (standard error):            0.008  0.079\n",
      "    fractal dimension (standard error):   0.001  0.03\n",
      "    radius (worst):                       7.93   36.04\n",
      "    texture (worst):                      12.02  49.54\n",
      "    perimeter (worst):                    50.41  251.2\n",
      "    area (worst):                         185.2  4254.0\n",
      "    smoothness (worst):                   0.071  0.223\n",
      "    compactness (worst):                  0.027  1.058\n",
      "    concavity (worst):                    0.0    1.252\n",
      "    concave points (worst):               0.0    0.291\n",
      "    symmetry (worst):                     0.156  0.664\n",
      "    fractal dimension (worst):            0.055  0.208\n",
      "    ===================================== ====== ======\n",
      "\n",
      "    :Missing Attribute Values: None\n",
      "\n",
      "    :Class Distribution: 212 - Malignant, 357 - Benign\n",
      "\n",
      "    :Creator:  Dr. William H. Wolberg, W. Nick Street, Olvi L. Mangasarian\n",
      "\n",
      "    :Donor: Nick Street\n",
      "\n",
      "    :Date: November, 1995\n",
      "\n",
      "This is a copy of UCI ML Breast Cancer Wisconsin (Diagnostic) datasets.\n",
      "https://goo.gl/U2Uwz2\n",
      "\n",
      "Features are computed from a digitized image of a fine needle\n",
      "aspirate (FNA) of a breast mass.  They describe\n",
      "characteristics of the cell nuclei present in the image.\n",
      "\n",
      "Separating plane described above was obtained using\n",
      "Multisurface Method-Tree (MSM-T) [K. P. Bennett, \"Decision Tree\n",
      "Construction Via Linear Programming.\" Proceedings of the 4th\n",
      "Midwest Artificial Intelligence and Cognitive Science Society,\n",
      "pp. 97-101, 1992], a classification method which uses linear\n",
      "programming to construct a decision tree.  Relevant features\n",
      "were selected using an exhaustive search in the space of 1-4\n",
      "features and 1-3 separating planes.\n",
      "\n",
      "The actual linear program used to obtain the separating plane\n",
      "in the 3-dimensional space is that described in:\n",
      "[K. P. Bennett and O. L. Mangasarian: \"Robust Linear\n",
      "Programming Discrimination of Two Linearly Inseparable Sets\",\n",
      "Optimization Methods and Software 1, 1992, 23-34].\n",
      "\n",
      "This database is also available through the UW CS ftp server:\n",
      "\n",
      "ftp ftp.cs.wisc.edu\n",
      "cd math-prog/cpo-dataset/machine-learn/WDBC/\n",
      "\n",
      ".. topic:: References\n",
      "\n",
      "   - W.N. Street, W.H. Wolberg and O.L. Mangasarian. Nuclear feature extraction \n",
      "     for breast tumor diagnosis. IS&T/SPIE 1993 International Symposium on \n",
      "     Electronic Imaging: Science and Technology, volume 1905, pages 861-870,\n",
      "     San Jose, CA, 1993.\n",
      "   - O.L. Mangasarian, W.N. Street and W.H. Wolberg. Breast cancer diagnosis and \n",
      "     prognosis via linear programming. Operations Research, 43(4), pages 570-577, \n",
      "     July-August 1995.\n",
      "   - W.H. Wolberg, W.N. Street, and O.L. Mangasarian. Machine learning techniques\n",
      "     to diagnose breast cancer from fine-needle aspirates. Cancer Letters 77 (1994) \n",
      "     163-171.\n"
     ]
    }
   ],
   "source": [
    "print(bc.DESCR)"
   ]
  },
  {
   "cell_type": "code",
   "execution_count": 768,
   "metadata": {},
   "outputs": [
    {
     "data": {
      "text/plain": [
       "\"\\nprint('convert SKlearn Dataset to Pandas Dataset')\\ncolumns = bc.feature_names\\ncolumns = np.append(columns, 'category')\\nprint(len(columns))\\nprint(bc.target_names)\\nbc_pd = pd.DataFrame(data=bc.data)\\nbc_pd_tr = pd.DataFrame(data=bc.target)\\nbc_pd = pd.concat([bc_pd,bc_pd_tr], axis=1)\\nbc_pd.columns = columns\\nprint(bc_pd.head(2))\\n\\n#Label_map = {0:'malignant',1:'benign'}\\n#bc_pd['category']=bc_pd['category'].map(Label_map)\\nprint(bc_pd.head(2))\\nprint(bc_pd.describe())\\nbc_sc = scale(bc_pd)\\n\""
      ]
     },
     "execution_count": 768,
     "metadata": {},
     "output_type": "execute_result"
    }
   ],
   "source": [
    "'''\n",
    "print('convert SKlearn Dataset to Pandas Dataset')\n",
    "columns = bc.feature_names\n",
    "columns = np.append(columns, 'category')\n",
    "print(len(columns))\n",
    "print(bc.target_names)\n",
    "bc_pd = pd.DataFrame(data=bc.data)\n",
    "bc_pd_tr = pd.DataFrame(data=bc.target)\n",
    "bc_pd = pd.concat([bc_pd,bc_pd_tr], axis=1)\n",
    "bc_pd.columns = columns\n",
    "print(bc_pd.head(2))\n",
    "\n",
    "#Label_map = {0:'malignant',1:'benign'}\n",
    "#bc_pd['category']=bc_pd['category'].map(Label_map)\n",
    "print(bc_pd.head(2))\n",
    "print(bc_pd.describe())\n",
    "bc_sc = scale(bc_pd)\n",
    "'''"
   ]
  },
  {
   "cell_type": "code",
   "execution_count": 769,
   "metadata": {},
   "outputs": [],
   "source": [
    "x_train, x_test, y_train, y_test = train_test_split(x, y, test_size=6)# taking only 6 samples\n",
    "model = KMeans(n_clusters=2, random_state=0)\n",
    "model.fit(x_train)\n",
    "predictions = model.predict(x_test)\n",
    "labels = model.labels_\n",
    "\n"
   ]
  },
  {
   "cell_type": "code",
   "execution_count": 770,
   "metadata": {},
   "outputs": [
    {
     "name": "stdout",
     "output_type": "stream",
     "text": [
      "Labels [1 1 1 0 1 0 1 1 0 1 1 0 1 0 1 1 1 0 0 1 0 1 0 1 0 0 1 1 0 1 1 1 0 1 0 1 1\n",
      " 1 1 0 1 1 1 0 1 0 1 1 1 0 0 1 1 1 1 1 1 0 1 0 1 1 0 1 1 1 1 1 0 1 0 1 1 0\n",
      " 1 1 0 1 1 1 1 0 1 1 0 1 0 1 1 1 1 1 0 1 1 0 0 1 0 0 1 1 0 1 0 1 0 1 0 1 1\n",
      " 1 0 0 0 1 1 0 0 1 1 0 1 0 0 1 1 0 0 1 1 1 1 0 1 0 0 1 1 1 1 1 0 0 1 1 1 0\n",
      " 1 0 0 0 0 0 1 0 0 0 1 0 0 1 1 0 1 1 1 1 1 1 1 1 1 1 1 1 1 0 1 1 0 1 1 0 1\n",
      " 0 0 1 0 0 1 0 0 0 0 1 0 1 0 0 0 1 1 1 1 1 1 1 0 0 0 1 1 0 0 1 1 1 1 1 1 1\n",
      " 0 1 1 0 0 0 1 1 0 1 1 1 1 1 1 1 1 0 1 0 1 1 1 1 0 1 1 1 1 1 0 1 1 1 0 1 1\n",
      " 1 1 1 1 1 1 1 1 0 1 1 1 1 0 1 1 1 1 1 0 1 0 1 0 1 0 1 0 1 1 0 0 1 0 1 1 0\n",
      " 0 0 1 1 1 0 1 0 0 0 1 0 0 0 1 0 0 1 0 1 1 1 1 0 1 1 1 0 0 1 0 0 1 1 0 1 1\n",
      " 1 1 1 1 1 1 1 0 1 1 1 1 0 1 1 1 1 1 1 1 1 1 1 1 1 1 1 0 1 0 0 1 0 1 1 1 1\n",
      " 0 1 1 1 1 1 1 1 1 1 1 1 0 0 1 1 0 1 1 1 1 1 1 1 0 0 1 1 1 0 1 1 1 0 0 1 1\n",
      " 1 0 0 1 0 1 0 1 0 1 0 0 1 1 0 1 1 1 0 0 0 1 1 1 1 0 1 0 1 1 0 1 0 0 1 1 1\n",
      " 1 1 0 0 1 0 1 0 1 1 1 1 1 0 1 0 1 1 0 0 0 1 1 1 1 1 1 0 1 0 1 1 1 0 1 1 1\n",
      " 0 1 1 1 1 1 1 1 1 1 1 0 1 1 1 1 1 1 1 1 1 0 0 0 1 0 1 1 1 1 0 1 0 0 1 1 1\n",
      " 1 0 0 0 1 1 1 1 1 0 0 1 0 1 1 1 1 0 1 0 1 1 0 1 1 1 0 1 1 1 0 1 1 0 0 0 1\n",
      " 1 0 0 1 1 1 1 0]\n",
      "Predictions [1 1 0 1 1 0]\n",
      "Predictions [1 1 0 1 0 1]\n",
      "Accuracy 0.6666666666666666\n",
      "Cluster Centre [[ 0.93139394  0.46746057  0.96344872  0.92136551  0.58589282  0.99919172\n",
      "   1.10076601  1.12298911  0.57954668  0.27226173  0.81180284  0.02927945\n",
      "   0.81158234  0.76426435  0.03709316  0.69091031  0.63378064  0.75674553\n",
      "   0.13043438  0.45181741  0.99738282  0.48975981  1.02188513  0.96117709\n",
      "   0.60445864  0.93855152  1.02863435  1.11659155  0.57987081  0.64743973]\n",
      " [-0.48697377 -0.24021619 -0.50435757 -0.48185454 -0.30811829 -0.52843404\n",
      "  -0.58163198 -0.58980659 -0.30187276 -0.14739467 -0.42927516 -0.01761222\n",
      "  -0.43171247 -0.40326275 -0.02159024 -0.37154918 -0.33733063 -0.39930089\n",
      "  -0.07681925 -0.23529598 -0.52170874 -0.25181926 -0.5360999  -0.50281795\n",
      "  -0.3161385  -0.49432038 -0.53996039 -0.58282318 -0.30497619 -0.33704235]]\n"
     ]
    }
   ],
   "source": [
    "print(\"Labels\", labels)\n",
    "print(\"Predictions\", predictions)\n",
    "print(\"Predictions\", y_test)\n",
    "print(\"Accuracy\", accuracy_score(y_test, predictions))\n",
    "print(\"Cluster Centre\", model.cluster_centers_)"
   ]
  },
  {
   "cell_type": "code",
   "execution_count": 771,
   "metadata": {},
   "outputs": [
    {
     "data": {
      "text/html": [
       "<div>\n",
       "<style scoped>\n",
       "    .dataframe tbody tr th:only-of-type {\n",
       "        vertical-align: middle;\n",
       "    }\n",
       "\n",
       "    .dataframe tbody tr th {\n",
       "        vertical-align: top;\n",
       "    }\n",
       "\n",
       "    .dataframe thead th {\n",
       "        text-align: right;\n",
       "    }\n",
       "</style>\n",
       "<table border=\"1\" class=\"dataframe\">\n",
       "  <thead>\n",
       "    <tr style=\"text-align: right;\">\n",
       "      <th>col_0</th>\n",
       "      <th>0</th>\n",
       "      <th>1</th>\n",
       "    </tr>\n",
       "    <tr>\n",
       "      <th>row_0</th>\n",
       "      <th></th>\n",
       "      <th></th>\n",
       "    </tr>\n",
       "  </thead>\n",
       "  <tbody>\n",
       "    <tr>\n",
       "      <td>0</td>\n",
       "      <td>176</td>\n",
       "      <td>34</td>\n",
       "    </tr>\n",
       "    <tr>\n",
       "      <td>1</td>\n",
       "      <td>17</td>\n",
       "      <td>336</td>\n",
       "    </tr>\n",
       "  </tbody>\n",
       "</table>\n",
       "</div>"
      ],
      "text/plain": [
       "col_0    0    1\n",
       "row_0          \n",
       "0      176   34\n",
       "1       17  336"
      ]
     },
     "execution_count": 771,
     "metadata": {},
     "output_type": "execute_result"
    }
   ],
   "source": [
    "pd.crosstab(y_train, labels)"
   ]
  },
  {
   "cell_type": "code",
   "execution_count": 772,
   "metadata": {},
   "outputs": [
    {
     "data": {
      "image/png": "[encoded data removed]",
      "text/plain": [
       "<Figure size 432x288 with 2 Axes>"
      ]
     },
     "metadata": {
      "needs_background": "light"
     },
     "output_type": "display_data"
    }
   ],
   "source": [
    "from sklearn.metrics import confusion_matrix\n",
    "cm = confusion_matrix(y_train, labels)\n",
    "import seaborn as sns\n",
    "sns.heatmap(cm)\n",
    "plt.xlabel('True')\n",
    "plt.ylabel('Prediction')\n",
    "plt.show()"
   ]
  },
  {
   "cell_type": "code",
   "execution_count": 773,
   "metadata": {},
   "outputs": [
    {
     "name": "stdout",
     "output_type": "stream",
     "text": [
      "(2, 30)\n"
     ]
    },
    {
     "data": {
      "image/png": "[encoded data removed]",
      "text/plain": [
       "<Figure size 432x288 with 1 Axes>"
      ]
     },
     "metadata": {
      "needs_background": "light"
     },
     "output_type": "display_data"
    }
   ],
   "source": [
    "cl_cent = model.cluster_centers_\n",
    "print(cl_cent.shape)\n",
    "import seaborn as sns\n",
    "sns.scatterplot(cl_cent[0,:], cl_cent[1,:], color='black')\n",
    "plt.show()"
   ]
  },
  {
   "cell_type": "code",
   "execution_count": 774,
   "metadata": {},
   "outputs": [
    {
     "name": "stdout",
     "output_type": "stream",
     "text": [
      "5)   Scale, StandardScaler, MinMaxScaler\n",
      "   vip    kam\n",
      "0    1      1\n",
      "1    2    100\n",
      "2    3    500\n",
      "3    4    700\n",
      "4    5   1000\n",
      "5    6   2000\n",
      "6    7   4000\n",
      "7    8   6000\n",
      "8    9   8000\n",
      "9   10  10000\n",
      "Sacle Data\n",
      "[[-1.5666989  -0.94236805]\n",
      " [-1.21854359 -0.91347627]\n",
      " [-0.87038828 -0.79674182]\n",
      " [-0.52223297 -0.73837459]\n",
      " [-0.17407766 -0.65082375]\n",
      " [ 0.17407766 -0.35898762]\n",
      " [ 0.52223297  0.22468464]\n",
      " [ 0.87038828  0.8083569 ]\n",
      " [ 1.21854359  1.39202916]\n",
      " [ 1.5666989   1.97570142]]\n",
      "StandardScalar\n",
      "[[-1.5666989  -0.94236805]\n",
      " [-1.21854359 -0.91347627]\n",
      " [-0.87038828 -0.79674182]\n",
      " [-0.52223297 -0.73837459]\n",
      " [-0.17407766 -0.65082375]\n",
      " [ 0.17407766 -0.35898762]\n",
      " [ 0.52223297  0.22468464]\n",
      " [ 0.87038828  0.8083569 ]\n",
      " [ 1.21854359  1.39202916]\n",
      " [ 1.5666989   1.97570142]]\n",
      "StandardScaler Transform\n",
      "[[-1.5666989  -0.94236805]\n",
      " [-1.21854359 -0.91347627]\n",
      " [-0.87038828 -0.79674182]\n",
      " [-0.52223297 -0.73837459]\n",
      " [-0.17407766 -0.65082375]\n",
      " [ 0.17407766 -0.35898762]\n",
      " [ 0.52223297  0.22468464]\n",
      " [ 0.87038828  0.8083569 ]\n",
      " [ 1.21854359  1.39202916]\n",
      " [ 1.5666989   1.97570142]]\n",
      "Inverse :  [[1.e+00 1.e+00]\n",
      " [2.e+00 1.e+02]\n",
      " [3.e+00 5.e+02]\n",
      " [4.e+00 7.e+02]\n",
      " [5.e+00 1.e+03]\n",
      " [6.e+00 2.e+03]\n",
      " [7.e+00 4.e+03]\n",
      " [8.e+00 6.e+03]\n",
      " [9.e+00 8.e+03]\n",
      " [1.e+01 1.e+04]]\n",
      "MinMaxScalar\n",
      "MinMaxScaler(copy=True, feature_range=(0, 1))\n",
      "[[0.         0.        ]\n",
      " [0.11111111 0.00990099]\n",
      " [0.22222222 0.04990499]\n",
      " [0.33333333 0.06990699]\n",
      " [0.44444444 0.09990999]\n",
      " [0.55555556 0.19991999]\n",
      " [0.66666667 0.39993999]\n",
      " [0.77777778 0.59996   ]\n",
      " [0.88888889 0.79998   ]\n",
      " [1.         1.        ]]\n"
     ]
    }
   ],
   "source": [
    "print(     '5)   Scale, StandardScaler, MinMaxScaler'     )\n",
    "\n",
    "test_data = pd.DataFrame({'vip':[1,2,3,4,5,6,7,8,9,10], 'kam':[1,100,500,700,1000,2000,4000,6000,8000,10000]})\n",
    "from sklearn.preprocessing import StandardScaler, scale, MinMaxScaler\n",
    "\n",
    "print(test_data)\n",
    "print('Sacle Data')\n",
    "print(scale(test_data))\n",
    "\n",
    "print('StandardScalar')\n",
    "sc = StandardScaler()\n",
    "sc.fit(test_data) # or use sc.fit_transform(test_data)\n",
    "print(sc.transform(test_data))\n",
    "print('StandardScaler Transform')\n",
    "print(sc.transform(test_data))\n",
    "test = sc.transform(test_data)\n",
    "print('Inverse : ', sc.inverse_transform(test))\n",
    "\n",
    "mn = MinMaxScaler()\n",
    "print('MinMaxScalar')\n",
    "print(mn.fit(test_data)) # or use mn.fit_transform(test_data)\n",
    "print(mn.transform(test_data)) #mn.inverse_transform(test)\n"
   ]
  },
  {
   "cell_type": "code",
   "execution_count": 775,
   "metadata": {},
   "outputs": [
    {
     "name": "stdout",
     "output_type": "stream",
     "text": [
      "6)   Random Forest Classifier\n",
      "Accuracy :  1.0\n"
     ]
    }
   ],
   "source": [
    "print(    '6)   Random Forest Classifier'    )\n",
    "\n",
    "from sklearn.ensemble import RandomForestClassifier\n",
    "from sklearn import datasets\n",
    "from sklearn.model_selection import train_test_split\n",
    "from sklearn.metrics import accuracy_score\n",
    "iris = datasets.load_iris()\n",
    "x = iris.data\n",
    "y = iris.target\n",
    "x_train, x_test, y_train, y_test = train_test_split(x,y, test_size=0.2)\n",
    "model = RandomForestClassifier(n_estimators=3, min_samples_split=3, min_samples_leaf=1)\n",
    "model.fit(x_train, y_train)\n",
    "prediction = model.predict(x_test)\n",
    "print('Accuracy : ', accuracy_score(y_test, prediction))"
   ]
  },
  {
   "cell_type": "code",
   "execution_count": 776,
   "metadata": {
    "scrolled": true
   },
   "outputs": [
    {
     "name": "stdout",
     "output_type": "stream",
     "text": [
      "7)   Hyperparameter Tuning on Random Forest Classifier\n"
     ]
    },
    {
     "name": "stderr",
     "output_type": "stream",
     "text": [
      "/opt/anaconda3/lib/python3.7/site-packages/sklearn/model_selection/_split.py:1978: FutureWarning: The default value of cv will change from 3 to 5 in version 0.22. Specify it explicitly to silence this warning.\n",
      "  warnings.warn(CV_WARNING, FutureWarning)\n"
     ]
    },
    {
     "name": "stdout",
     "output_type": "stream",
     "text": [
      "Best_Score_: 0.9583333333333334\n",
      "Metrics.Accuracy_Score :  1.0\n",
      "{'min_samples_leaf': 1, 'min_samples_split': 2, 'n_estimators': 20}\n"
     ]
    },
    {
     "name": "stderr",
     "output_type": "stream",
     "text": [
      "/opt/anaconda3/lib/python3.7/site-packages/sklearn/model_selection/_search.py:814: DeprecationWarning: The default of the `iid` parameter will change from True to False in version 0.22 and will be removed in 0.24. This will change numeric results when test-set sizes are unequal.\n",
      "  DeprecationWarning)\n"
     ]
    }
   ],
   "source": [
    "print (   '7)   Hyperparameter Tuning on Random Forest Classifier'   )\n",
    "\n",
    "from sklearn.model_selection import GridSearchCV\n",
    "param_grid = {'n_estimators':[2,5,10,20], 'min_samples_split':[2,3,4,5], 'min_samples_leaf':[1,2,3,4]}\n",
    "model_gs = GridSearchCV(estimator=model, param_grid=param_grid)\n",
    "model_gs.fit(x_train, y_train)\n",
    "predition = model_gs.predict(x_test)\n",
    "print('Best_Score_:',model_gs.best_score_)\n",
    "print('Metrics.Accuracy_Score : ', accuracy_score(y_test, prediction))\n",
    "print(model_gs.best_params_)"
   ]
  },
  {
   "cell_type": "code",
   "execution_count": 777,
   "metadata": {},
   "outputs": [
    {
     "name": "stdout",
     "output_type": "stream",
     "text": [
      "8) Random Forest Regressor\n",
      "['CRIM' 'ZN' 'INDUS' 'CHAS' 'NOX' 'RM' 'AGE' 'DIS' 'RAD' 'TAX' 'PTRATIO'\n",
      " 'B' 'LSTAT']\n",
      "[24.  21.6 34.7 33.4 36.2 28.7 22.9 27.1 16.5 18.9 15.  18.9 21.7 20.4\n",
      " 18.2 19.9 23.1 17.5 20.2 18.2]\n",
      "(466, 13)\n",
      "(466,)\n",
      "(40, 13)\n",
      "(40,)\n",
      "y_test :  [19.5 31.1 18.5  8.5 13.4 10.5 22.5 13.8 21.7 20.8 21.5 20.4 25.1 19.2\n",
      " 23.9  8.5 20.1 20.9 13.6 50.  22.6 43.1 21.9 24.4 33.4 15.6 21.9 21.7\n",
      " 28.4 34.9 30.1 20.6 50.  13.8 25.  20.1 27.5 20.6 22.3 20.7]\n",
      "R^2_Accuracy_Score :  0.9007464425906659\n",
      "19.5 19.334500000000048\n",
      "31.1 29.07909999999982\n",
      "18.5 19.158199999999958\n",
      "8.5 12.869700000000023\n",
      "13.4 12.93210000000001\n",
      "Mean_Absolute_Error :  1.980887500000032\n",
      "Mean_Squared_Error :  8.374816046750059\n"
     ]
    }
   ],
   "source": [
    "print (    '8) Random Forest Regressor'    )\n",
    "\n",
    "from sklearn import datasets\n",
    "from sklearn.model_selection import train_test_split\n",
    "from sklearn.ensemble import RandomForestRegressor\n",
    "from sklearn.preprocessing import StandardScaler, scale\n",
    "from sklearn.metrics import accuracy_score, r2_score, mean_squared_error, mean_absolute_error\n",
    "bc = datasets.load_boston()\n",
    "x = bc.data\n",
    "y = bc.target\n",
    "print(bc.feature_names)\n",
    "sc = StandardScaler()\n",
    "x = sc.fit_transform(x)\n",
    "#y = sc.transform(y)\n",
    "#y = scale(y)\n",
    "print(y[0:20])\n",
    "x_train, x_test, y_train, y_test = train_test_split(x, y, test_size=40)\n",
    "print(x_train.shape)\n",
    "print(y_train.shape)\n",
    "print(x_test.shape)\n",
    "print(y_test.shape)\n",
    "\n",
    "print('y_test : ', y_test)\n",
    "model = RandomForestRegressor(n_estimators=1000,random_state=0, min_samples_split=2)\n",
    "model.fit(x_train, y_train)\n",
    "prediction = model.predict(x_test)\n",
    "print('R^2_Accuracy_Score : ', metrics.r2_score(y_test, prediction))\n",
    "for i in range(5):\n",
    "    print(y_test[i],model.predict(x_test)[i])\n",
    "print('Mean_Absolute_Error : ',mean_absolute_error(y_test,prediction))\n",
    "print('Mean_Squared_Error : ',mean_squared_error(y_test,prediction))\n"
   ]
  },
  {
   "cell_type": "code",
   "execution_count": 779,
   "metadata": {},
   "outputs": [
    {
     "name": "stdout",
     "output_type": "stream",
     "text": [
      "KNN_Accuracy :  0.9333333333333333\n"
     ]
    },
    {
     "name": "stderr",
     "output_type": "stream",
     "text": [
      "/opt/anaconda3/lib/python3.7/site-packages/sklearn/model_selection/_split.py:1978: FutureWarning: The default value of cv will change from 3 to 5 in version 0.22. Specify it explicitly to silence this warning.\n",
      "  warnings.warn(CV_WARNING, FutureWarning)\n"
     ]
    },
    {
     "name": "stdout",
     "output_type": "stream",
     "text": [
      "Best_Params_: {'n_neighbors': 5, 'weights': 'uniform'}\n",
      "Best_Score_:  0.9833333333333333\n",
      "Metrics.Accuracy_Score :  1.0\n",
      "{'mean_fit_time': array([0.00108473, 0.0009896 , 0.00110443, 0.00137313, 0.00115808,\n",
      "       0.00081491, 0.00086133, 0.00098093, 0.00084726, 0.00088938,\n",
      "       0.00085457, 0.00093333, 0.00115792, 0.00208195, 0.00088517,\n",
      "       0.0011824 , 0.00119321, 0.0012997 , 0.00096051, 0.00086204]), 'std_fit_time': array([2.11755192e-04, 1.98888004e-04, 3.19254872e-04, 2.58101323e-04,\n",
      "       4.07096929e-04, 1.18938775e-05, 5.21057185e-05, 1.31408992e-04,\n",
      "       1.51607890e-05, 6.07888938e-05, 1.68163519e-05, 8.73094638e-05,\n",
      "       1.68686532e-04, 5.03639308e-04, 1.80383715e-04, 4.22714878e-04,\n",
      "       3.72691905e-04, 7.55092890e-04, 1.24991431e-04, 3.12499634e-04]), 'mean_score_time': array([0.00472212, 0.00192189, 0.00662144, 0.00332697, 0.00478188,\n",
      "       0.00186229, 0.00514587, 0.00200931, 0.00526245, 0.0022006 ,\n",
      "       0.00544469, 0.00347519, 0.00782696, 0.0037721 , 0.0083166 ,\n",
      "       0.00329002, 0.00810981, 0.00338062, 0.00659386, 0.00275032]), 'std_score_time': array([1.82725509e-04, 9.05641271e-05, 2.15851584e-03, 5.74767886e-04,\n",
      "       1.94917392e-04, 2.11723216e-05, 2.42800993e-04, 7.09180284e-05,\n",
      "       2.02930426e-04, 1.72522271e-04, 2.98170710e-04, 1.22267837e-03,\n",
      "       3.80420351e-04, 6.89997712e-04, 9.12956063e-04, 4.21377543e-04,\n",
      "       8.22455798e-04, 6.96150416e-04, 9.12247608e-04, 6.57441421e-04]), 'param_n_neighbors': masked_array(data=[5, 5, 10, 10, 15, 15, 20, 20, 25, 25, 30, 30, 35, 35,\n",
      "                   40, 40, 45, 45, 50, 50],\n",
      "             mask=[False, False, False, False, False, False, False, False,\n",
      "                   False, False, False, False, False, False, False, False,\n",
      "                   False, False, False, False],\n",
      "       fill_value='?',\n",
      "            dtype=object), 'param_weights': masked_array(data=['uniform', 'distance', 'uniform', 'distance',\n",
      "                   'uniform', 'distance', 'uniform', 'distance',\n",
      "                   'uniform', 'distance', 'uniform', 'distance',\n",
      "                   'uniform', 'distance', 'uniform', 'distance',\n",
      "                   'uniform', 'distance', 'uniform', 'distance'],\n",
      "             mask=[False, False, False, False, False, False, False, False,\n",
      "                   False, False, False, False, False, False, False, False,\n",
      "                   False, False, False, False],\n",
      "       fill_value='?',\n",
      "            dtype=object), 'params': [{'n_neighbors': 5, 'weights': 'uniform'}, {'n_neighbors': 5, 'weights': 'distance'}, {'n_neighbors': 10, 'weights': 'uniform'}, {'n_neighbors': 10, 'weights': 'distance'}, {'n_neighbors': 15, 'weights': 'uniform'}, {'n_neighbors': 15, 'weights': 'distance'}, {'n_neighbors': 20, 'weights': 'uniform'}, {'n_neighbors': 20, 'weights': 'distance'}, {'n_neighbors': 25, 'weights': 'uniform'}, {'n_neighbors': 25, 'weights': 'distance'}, {'n_neighbors': 30, 'weights': 'uniform'}, {'n_neighbors': 30, 'weights': 'distance'}, {'n_neighbors': 35, 'weights': 'uniform'}, {'n_neighbors': 35, 'weights': 'distance'}, {'n_neighbors': 40, 'weights': 'uniform'}, {'n_neighbors': 40, 'weights': 'distance'}, {'n_neighbors': 45, 'weights': 'uniform'}, {'n_neighbors': 45, 'weights': 'distance'}, {'n_neighbors': 50, 'weights': 'uniform'}, {'n_neighbors': 50, 'weights': 'distance'}], 'split0_test_score': array([0.97560976, 0.97560976, 0.95121951, 0.95121951, 0.95121951,\n",
      "       0.95121951, 0.95121951, 0.95121951, 0.95121951, 0.95121951,\n",
      "       0.95121951, 0.95121951, 0.95121951, 0.95121951, 0.87804878,\n",
      "       0.95121951, 0.87804878, 0.95121951, 0.7804878 , 0.95121951]), 'split1_test_score': array([1.   , 1.   , 0.975, 1.   , 0.975, 0.975, 0.975, 0.975, 0.975,\n",
      "       0.975, 0.975, 0.975, 0.95 , 0.95 , 0.95 , 0.975, 0.975, 0.975,\n",
      "       0.95 , 0.975]), 'split2_test_score': array([0.97435897, 0.97435897, 0.97435897, 0.97435897, 0.92307692,\n",
      "       0.94871795, 0.8974359 , 0.92307692, 0.8974359 , 0.8974359 ,\n",
      "       0.87179487, 0.8974359 , 0.87179487, 0.8974359 , 0.87179487,\n",
      "       0.8974359 , 0.87179487, 0.8974359 , 0.87179487, 0.8974359 ]), 'mean_test_score': array([0.98333333, 0.98333333, 0.96666667, 0.975     , 0.95      ,\n",
      "       0.95833333, 0.94166667, 0.95      , 0.94166667, 0.94166667,\n",
      "       0.93333333, 0.94166667, 0.925     , 0.93333333, 0.9       ,\n",
      "       0.94166667, 0.90833333, 0.94166667, 0.86666667, 0.94166667]), 'std_test_score': array([0.01179616, 0.01179616, 0.01113129, 0.02004204, 0.02108123,\n",
      "       0.01182925, 0.03220818, 0.02108123, 0.03220818, 0.03220818,\n",
      "       0.04380385, 0.03220818, 0.03692183, 0.02491386, 0.03544735,\n",
      "       0.03220818, 0.0472095 , 0.03220818, 0.0697198 , 0.03220818]), 'rank_test_score': array([ 1,  1,  4,  3,  6,  5,  8,  6,  8,  8, 15,  8, 17, 15, 19,  8, 18,\n",
      "        8, 20,  8], dtype=int32)}\n",
      "1 1\n",
      "0 0\n",
      "2 2\n",
      "2 2\n",
      "2 2\n",
      "0 0\n",
      "1 1\n",
      "1 1\n",
      "2 2\n",
      "2 2\n",
      "1 1\n",
      "0 0\n",
      "2 2\n",
      "0 0\n",
      "1 1\n",
      "0 0\n",
      "2 2\n",
      "0 0\n",
      "1 1\n",
      "0 0\n"
     ]
    },
    {
     "name": "stderr",
     "output_type": "stream",
     "text": [
      "/opt/anaconda3/lib/python3.7/site-packages/sklearn/model_selection/_search.py:814: DeprecationWarning: The default of the `iid` parameter will change from True to False in version 0.22 and will be removed in 0.24. This will change numeric results when test-set sizes are unequal.\n",
      "  DeprecationWarning)\n"
     ]
    }
   ],
   "source": [
    "'9) Hyperparameter Tuning on KNN K Neighbors Classifier'\n",
    "\n",
    "from sklearn.model_selection import GridSearchCV\n",
    "from sklearn import neighbors\n",
    "model_knn = neighbors.KNeighborsClassifier(n_neighbors=15, weights='uniform')\n",
    "iris = datasets.load_iris()\n",
    "x = iris.data\n",
    "y = iris.target\n",
    "x_train, x_test, y_train, y_test = train_test_split(x, y, test_size=0.2)\n",
    "model_knn.fit(x_train, y_train)\n",
    "prediction=model_knn.predict(x_test)\n",
    "print('KNN_Accuracy : ', accuracy_score(y_test, prediction))\n",
    "\n",
    "\n",
    "param_grid = {'n_neighbors':[5,10,15,20,25,30,35,40,45,50], 'weights':['uniform','distance']}\n",
    "model_gs=GridSearchCV(estimator=model_knn,param_grid = param_grid)\n",
    "model_gs.fit(x_train, y_train)\n",
    "prediction = model_gs.predict(x_test)\n",
    "print('Best_Params_:',model_gs.best_params_)\n",
    "print('Best_Score_: ',model_gs.best_score_)\n",
    "print('Metrics.Accuracy_Score : ', accuracy_score(y_test,prediction))\n",
    "print(model_gs.cv_results_)\n",
    "\n",
    "for i in range(20):\n",
    "    print(y_test[i],model_gs.predict(x_test)[i])"
   ]
  },
  {
   "cell_type": "raw",
   "metadata": {},
   "source": [
    "Regards\n",
    "\n",
    "VIPUL KAMBOJ"
   ]
  }
 ],
 "metadata": {
  "kernelspec": {
   "display_name": "Python 3",
   "language": "python",
   "name": "python3"
  },
  "language_info": {
   "codemirror_mode": {
    "name": "ipython",
    "version": 3
   },
   "file_extension": ".py",
   "mimetype": "text/x-python",
   "name": "python",
   "nbconvert_exporter": "python",
   "pygments_lexer": "ipython3",
   "version": "3.7.4"
  }
 },
 "nbformat": 4,
 "nbformat_minor": 2
}
